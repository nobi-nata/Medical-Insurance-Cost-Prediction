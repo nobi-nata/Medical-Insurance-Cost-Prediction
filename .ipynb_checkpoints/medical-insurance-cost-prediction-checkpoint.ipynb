{
 "cells": [
  {
   "cell_type": "code",
   "execution_count": 1,
   "metadata": {
    "_cell_guid": "b1076dfc-b9ad-4769-8c92-a6c4dae69d19",
    "_uuid": "8f2839f25d086af736a60e9eeb907d3b93b6e0e5",
    "execution": {
     "iopub.execute_input": "2022-02-09T15:09:17.259828Z",
     "iopub.status.busy": "2022-02-09T15:09:17.259315Z",
     "iopub.status.idle": "2022-02-09T15:09:17.270279Z",
     "shell.execute_reply": "2022-02-09T15:09:17.269407Z",
     "shell.execute_reply.started": "2022-02-09T15:09:17.259774Z"
    }
   },
   "outputs": [],
   "source": [
    "# This Python 3 environment comes with many helpful analytics libraries installed\n",
    "# It is defined by the kaggle/python Docker image: https://github.com/kaggle/docker-python\n",
    "# For example, here's several helpful packages to load\n",
    "\n",
    "import numpy as np # linear algebra\n",
    "import pandas as pd # data processing, CSV file I/O (e.g. pd.read_csv)\n",
    "\n",
    "# Input data files are available in the read-only \"../input/\" directory\n",
    "# For example, running this (by clicking run or pressing Shift+Enter) will list all files under the input directory\n",
    "\n",
    "import os\n",
    "for dirname, _, filenames in os.walk('/kaggle/input'):\n",
    "    for filename in filenames:\n",
    "        print(os.path.join(dirname, filename))\n",
    "\n",
    "# You can write up to 20GB to the current directory (/kaggle/working/) that gets preserved as output when you create a version using \"Save & Run All\" \n",
    "# You can also write temporary files to /kaggle/temp/, but they won't be saved outside of the current session"
   ]
  },
  {
   "cell_type": "code",
   "execution_count": 182,
   "metadata": {
    "execution": {
     "iopub.execute_input": "2022-02-09T15:09:17.272463Z",
     "iopub.status.busy": "2022-02-09T15:09:17.272050Z",
     "iopub.status.idle": "2022-02-09T15:09:17.292259Z",
     "shell.execute_reply": "2022-02-09T15:09:17.291258Z",
     "shell.execute_reply.started": "2022-02-09T15:09:17.272412Z"
    }
   },
   "outputs": [],
   "source": [
    "import numpy as np # linear algebra\n",
    "import pandas as pd\n",
    "data = pd.read_csv('insurance.csv')"
   ]
  },
  {
   "cell_type": "markdown",
   "metadata": {},
   "source": [
    "**Display top 5 rows of the dataset**"
   ]
  },
  {
   "cell_type": "code",
   "execution_count": 183,
   "metadata": {
    "execution": {
     "iopub.execute_input": "2022-02-09T15:09:17.294119Z",
     "iopub.status.busy": "2022-02-09T15:09:17.293711Z",
     "iopub.status.idle": "2022-02-09T15:09:17.310093Z",
     "shell.execute_reply": "2022-02-09T15:09:17.309315Z",
     "shell.execute_reply.started": "2022-02-09T15:09:17.294070Z"
    }
   },
   "outputs": [],
   "source": [
    "data.head()"
   ]
  },
  {
   "cell_type": "markdown",
   "metadata": {},
   "source": [
    "**display last 5 rows of the dataset**"
   ]
  },
  {
   "cell_type": "code",
   "execution_count": 184,
   "metadata": {
    "execution": {
     "iopub.execute_input": "2022-02-09T15:09:17.312212Z",
     "iopub.status.busy": "2022-02-09T15:09:17.311463Z",
     "iopub.status.idle": "2022-02-09T15:09:17.330194Z",
     "shell.execute_reply": "2022-02-09T15:09:17.329320Z",
     "shell.execute_reply.started": "2022-02-09T15:09:17.312174Z"
    }
   },
   "outputs": [],
   "source": [
    "data.tail()"
   ]
  },
  {
   "cell_type": "markdown",
   "metadata": {},
   "source": [
    "**Find Shape of our dataset (no of rows and no of columns)**"
   ]
  },
  {
   "cell_type": "code",
   "execution_count": 185,
   "metadata": {
    "execution": {
     "iopub.execute_input": "2022-02-09T15:09:17.332830Z",
     "iopub.status.busy": "2022-02-09T15:09:17.332530Z",
     "iopub.status.idle": "2022-02-09T15:09:17.351209Z",
     "shell.execute_reply": "2022-02-09T15:09:17.350031Z",
     "shell.execute_reply.started": "2022-02-09T15:09:17.332797Z"
    }
   },
   "outputs": [],
   "source": [
    "data.shape"
   ]
  },
  {
   "cell_type": "code",
   "execution_count": 186,
   "metadata": {
    "execution": {
     "iopub.execute_input": "2022-02-09T15:09:17.353501Z",
     "iopub.status.busy": "2022-02-09T15:09:17.353170Z",
     "iopub.status.idle": "2022-02-09T15:09:17.371518Z",
     "shell.execute_reply": "2022-02-09T15:09:17.370614Z",
     "shell.execute_reply.started": "2022-02-09T15:09:17.353448Z"
    }
   },
   "outputs": [],
   "source": [
    "print(\"Number of rows: \",data.shape[0])\n",
    "print(\"Number of columns: \",data.shape[1])"
   ]
  },
  {
   "cell_type": "markdown",
   "metadata": {},
   "source": [
    "**Get Information about our Dataset like Total no of rows, Total no of Colunms ,Datatypes of each colunms and Memory Requirement**"
   ]
  },
  {
   "cell_type": "code",
   "execution_count": 187,
   "metadata": {
    "execution": {
     "iopub.execute_input": "2022-02-09T15:09:17.374317Z",
     "iopub.status.busy": "2022-02-09T15:09:17.373363Z",
     "iopub.status.idle": "2022-02-09T15:09:17.400163Z",
     "shell.execute_reply": "2022-02-09T15:09:17.399275Z",
     "shell.execute_reply.started": "2022-02-09T15:09:17.374203Z"
    }
   },
   "outputs": [],
   "source": [
    "data.info()"
   ]
  },
  {
   "cell_type": "markdown",
   "metadata": {},
   "source": [
    "**Check Null Values in Our Dataset**"
   ]
  },
  {
   "cell_type": "code",
   "execution_count": 188,
   "metadata": {
    "execution": {
     "iopub.execute_input": "2022-02-09T15:09:17.402744Z",
     "iopub.status.busy": "2022-02-09T15:09:17.402149Z",
     "iopub.status.idle": "2022-02-09T15:09:17.415803Z",
     "shell.execute_reply": "2022-02-09T15:09:17.414855Z",
     "shell.execute_reply.started": "2022-02-09T15:09:17.402696Z"
    }
   },
   "outputs": [],
   "source": [
    "data.isnull().sum()"
   ]
  },
  {
   "cell_type": "markdown",
   "metadata": {},
   "source": [
    "**Get overall Statistics about the dataset**"
   ]
  },
  {
   "cell_type": "code",
   "execution_count": 189,
   "metadata": {
    "execution": {
     "iopub.execute_input": "2022-02-09T15:09:17.418420Z",
     "iopub.status.busy": "2022-02-09T15:09:17.417740Z",
     "iopub.status.idle": "2022-02-09T15:09:17.459542Z",
     "shell.execute_reply": "2022-02-09T15:09:17.458669Z",
     "shell.execute_reply.started": "2022-02-09T15:09:17.418370Z"
    }
   },
   "outputs": [],
   "source": [
    "data.describe(include=\"all\")"
   ]
  },
  {
   "cell_type": "markdown",
   "metadata": {},
   "source": [
    "**Convert Columns from String(sex,smoker,region)to Numerical values**"
   ]
  },
  {
   "cell_type": "code",
   "execution_count": 190,
   "metadata": {
    "execution": {
     "iopub.execute_input": "2022-02-09T15:09:17.461815Z",
     "iopub.status.busy": "2022-02-09T15:09:17.461471Z",
     "iopub.status.idle": "2022-02-09T15:09:17.479022Z",
     "shell.execute_reply": "2022-02-09T15:09:17.478175Z",
     "shell.execute_reply.started": "2022-02-09T15:09:17.461773Z"
    }
   },
   "outputs": [],
   "source": [
    "data.head()"
   ]
  },
  {
   "cell_type": "code",
   "execution_count": 191,
   "metadata": {
    "execution": {
     "iopub.execute_input": "2022-02-09T15:09:17.481233Z",
     "iopub.status.busy": "2022-02-09T15:09:17.480399Z",
     "iopub.status.idle": "2022-02-09T15:09:17.489900Z",
     "shell.execute_reply": "2022-02-09T15:09:17.488869Z",
     "shell.execute_reply.started": "2022-02-09T15:09:17.481183Z"
    }
   },
   "outputs": [],
   "source": [
    "data['sex'].unique()"
   ]
  },
  {
   "cell_type": "code",
   "execution_count": 192,
   "metadata": {
    "execution": {
     "iopub.execute_input": "2022-02-09T15:09:17.491927Z",
     "iopub.status.busy": "2022-02-09T15:09:17.491391Z",
     "iopub.status.idle": "2022-02-09T15:09:17.507265Z",
     "shell.execute_reply": "2022-02-09T15:09:17.506238Z",
     "shell.execute_reply.started": "2022-02-09T15:09:17.491879Z"
    }
   },
   "outputs": [],
   "source": [
    "data['sex']=data['sex'].map({'female':0,'male':1})"
   ]
  },
  {
   "cell_type": "code",
   "execution_count": 193,
   "metadata": {
    "execution": {
     "iopub.execute_input": "2022-02-09T15:09:17.509447Z",
     "iopub.status.busy": "2022-02-09T15:09:17.508690Z",
     "iopub.status.idle": "2022-02-09T15:09:17.535792Z",
     "shell.execute_reply": "2022-02-09T15:09:17.534982Z",
     "shell.execute_reply.started": "2022-02-09T15:09:17.509408Z"
    }
   },
   "outputs": [],
   "source": [
    "data.head()"
   ]
  },
  {
   "cell_type": "code",
   "execution_count": 194,
   "metadata": {
    "execution": {
     "iopub.execute_input": "2022-02-09T15:09:17.539982Z",
     "iopub.status.busy": "2022-02-09T15:09:17.539450Z",
     "iopub.status.idle": "2022-02-09T15:09:17.546707Z",
     "shell.execute_reply": "2022-02-09T15:09:17.545532Z",
     "shell.execute_reply.started": "2022-02-09T15:09:17.539943Z"
    }
   },
   "outputs": [],
   "source": [
    "data['smoker']=data['smoker'].map({'yes':1,'no':0})"
   ]
  },
  {
   "cell_type": "code",
   "execution_count": 195,
   "metadata": {
    "execution": {
     "iopub.execute_input": "2022-02-09T15:09:17.548228Z",
     "iopub.status.busy": "2022-02-09T15:09:17.547968Z",
     "iopub.status.idle": "2022-02-09T15:09:17.572880Z",
     "shell.execute_reply": "2022-02-09T15:09:17.572016Z",
     "shell.execute_reply.started": "2022-02-09T15:09:17.548191Z"
    }
   },
   "outputs": [],
   "source": [
    "data.head()"
   ]
  },
  {
   "cell_type": "code",
   "execution_count": 196,
   "metadata": {
    "execution": {
     "iopub.execute_input": "2022-02-09T15:09:17.574733Z",
     "iopub.status.busy": "2022-02-09T15:09:17.574299Z",
     "iopub.status.idle": "2022-02-09T15:09:17.582701Z",
     "shell.execute_reply": "2022-02-09T15:09:17.581808Z",
     "shell.execute_reply.started": "2022-02-09T15:09:17.574686Z"
    }
   },
   "outputs": [],
   "source": [
    "data['region'].unique()"
   ]
  },
  {
   "cell_type": "code",
   "execution_count": 197,
   "metadata": {
    "execution": {
     "iopub.execute_input": "2022-02-09T15:09:17.585087Z",
     "iopub.status.busy": "2022-02-09T15:09:17.584331Z",
     "iopub.status.idle": "2022-02-09T15:09:17.603021Z",
     "shell.execute_reply": "2022-02-09T15:09:17.601907Z",
     "shell.execute_reply.started": "2022-02-09T15:09:17.585035Z"
    }
   },
   "outputs": [],
   "source": [
    "data['region']=data['region'].map({'southeast':2,'southwest':1,'northeast':4,'northwest':3})"
   ]
  },
  {
   "cell_type": "code",
   "execution_count": 198,
   "metadata": {
    "execution": {
     "iopub.execute_input": "2022-02-09T15:09:17.604665Z",
     "iopub.status.busy": "2022-02-09T15:09:17.604394Z",
     "iopub.status.idle": "2022-02-09T15:09:17.631444Z",
     "shell.execute_reply": "2022-02-09T15:09:17.630594Z",
     "shell.execute_reply.started": "2022-02-09T15:09:17.604635Z"
    }
   },
   "outputs": [],
   "source": [
    "data.head()"
   ]
  },
  {
   "cell_type": "markdown",
   "metadata": {},
   "source": [
    "**Store Feature Matrix in X and Response(target)in vector Y**"
   ]
  },
  {
   "cell_type": "code",
   "execution_count": 199,
   "metadata": {
    "execution": {
     "iopub.execute_input": "2022-02-09T15:09:17.633762Z",
     "iopub.status.busy": "2022-02-09T15:09:17.633245Z",
     "iopub.status.idle": "2022-02-09T15:09:17.641280Z",
     "shell.execute_reply": "2022-02-09T15:09:17.640372Z",
     "shell.execute_reply.started": "2022-02-09T15:09:17.633718Z"
    }
   },
   "outputs": [],
   "source": [
    "data.columns"
   ]
  },
  {
   "cell_type": "code",
   "execution_count": 200,
   "metadata": {
    "execution": {
     "iopub.execute_input": "2022-02-09T15:09:17.643373Z",
     "iopub.status.busy": "2022-02-09T15:09:17.642886Z",
     "iopub.status.idle": "2022-02-09T15:09:17.659276Z",
     "shell.execute_reply": "2022-02-09T15:09:17.658249Z",
     "shell.execute_reply.started": "2022-02-09T15:09:17.643329Z"
    }
   },
   "outputs": [],
   "source": [
    "X= data.drop(['expenses'],axis=1)"
   ]
  },
  {
   "cell_type": "code",
   "execution_count": 201,
   "metadata": {
    "execution": {
     "iopub.execute_input": "2022-02-09T15:09:17.661770Z",
     "iopub.status.busy": "2022-02-09T15:09:17.660927Z",
     "iopub.status.idle": "2022-02-09T15:09:17.681392Z",
     "shell.execute_reply": "2022-02-09T15:09:17.680801Z",
     "shell.execute_reply.started": "2022-02-09T15:09:17.661649Z"
    }
   },
   "outputs": [],
   "source": [
    "X"
   ]
  },
  {
   "cell_type": "code",
   "execution_count": 202,
   "metadata": {
    "execution": {
     "iopub.execute_input": "2022-02-09T15:09:17.682859Z",
     "iopub.status.busy": "2022-02-09T15:09:17.682501Z",
     "iopub.status.idle": "2022-02-09T15:09:17.686989Z",
     "shell.execute_reply": "2022-02-09T15:09:17.686189Z",
     "shell.execute_reply.started": "2022-02-09T15:09:17.682822Z"
    }
   },
   "outputs": [],
   "source": [
    "Y=data['expenses']\n"
   ]
  },
  {
   "cell_type": "code",
   "execution_count": 203,
   "metadata": {
    "execution": {
     "iopub.execute_input": "2022-02-09T15:09:17.688482Z",
     "iopub.status.busy": "2022-02-09T15:09:17.688122Z",
     "iopub.status.idle": "2022-02-09T15:09:17.707308Z",
     "shell.execute_reply": "2022-02-09T15:09:17.706701Z",
     "shell.execute_reply.started": "2022-02-09T15:09:17.688441Z"
    }
   },
   "outputs": [],
   "source": [
    "Y"
   ]
  },
  {
   "cell_type": "markdown",
   "metadata": {},
   "source": [
    "**Train/test split**\n",
    "\n",
    "*  Split data into two part : a training set and a testing set \n",
    "*  Train the model on training set\n",
    "*  Test the model on testing set"
   ]
  },
  {
   "cell_type": "code",
   "execution_count": 204,
   "metadata": {
    "execution": {
     "iopub.execute_input": "2022-02-09T15:09:17.709285Z",
     "iopub.status.busy": "2022-02-09T15:09:17.708916Z",
     "iopub.status.idle": "2022-02-09T15:09:17.717385Z",
     "shell.execute_reply": "2022-02-09T15:09:17.716490Z",
     "shell.execute_reply.started": "2022-02-09T15:09:17.709254Z"
    }
   },
   "outputs": [],
   "source": [
    "from sklearn.model_selection import train_test_split"
   ]
  },
  {
   "cell_type": "code",
   "execution_count": 205,
   "metadata": {
    "execution": {
     "iopub.execute_input": "2022-02-09T15:09:17.718947Z",
     "iopub.status.busy": "2022-02-09T15:09:17.718554Z",
     "iopub.status.idle": "2022-02-09T15:09:17.736047Z",
     "shell.execute_reply": "2022-02-09T15:09:17.735293Z",
     "shell.execute_reply.started": "2022-02-09T15:09:17.718915Z"
    }
   },
   "outputs": [],
   "source": [
    "X_train,X_test,Y_train,Y_test=train_test_split(X,Y,test_size=0.2,random_state=42)"
   ]
  },
  {
   "cell_type": "code",
   "execution_count": 206,
   "metadata": {
    "execution": {
     "iopub.execute_input": "2022-02-09T15:09:17.737942Z",
     "iopub.status.busy": "2022-02-09T15:09:17.737229Z",
     "iopub.status.idle": "2022-02-09T15:09:17.749303Z",
     "shell.execute_reply": "2022-02-09T15:09:17.748608Z",
     "shell.execute_reply.started": "2022-02-09T15:09:17.737905Z"
    }
   },
   "outputs": [],
   "source": [
    "Y_train"
   ]
  },
  {
   "cell_type": "markdown",
   "metadata": {},
   "source": [
    "**Import the models**"
   ]
  },
  {
   "cell_type": "code",
   "execution_count": 207,
   "metadata": {
    "execution": {
     "iopub.execute_input": "2022-02-09T15:09:17.751160Z",
     "iopub.status.busy": "2022-02-09T15:09:17.750720Z",
     "iopub.status.idle": "2022-02-09T15:09:17.766914Z",
     "shell.execute_reply": "2022-02-09T15:09:17.765827Z",
     "shell.execute_reply.started": "2022-02-09T15:09:17.751128Z"
    }
   },
   "outputs": [],
   "source": [
    "from sklearn.linear_model import LinearRegression\n",
    "from sklearn.svm import SVR\n",
    "from sklearn.ensemble import RandomForestRegressor\n",
    "from sklearn.ensemble import GradientBoostingRegressor"
   ]
  },
  {
   "cell_type": "markdown",
   "metadata": {},
   "source": [
    "**Model Training**"
   ]
  },
  {
   "cell_type": "code",
   "execution_count": 208,
   "metadata": {
    "execution": {
     "iopub.execute_input": "2022-02-09T15:09:17.768764Z",
     "iopub.status.busy": "2022-02-09T15:09:17.768245Z",
     "iopub.status.idle": "2022-02-09T15:09:18.344549Z",
     "shell.execute_reply": "2022-02-09T15:09:18.343788Z",
     "shell.execute_reply.started": "2022-02-09T15:09:17.768725Z"
    }
   },
   "outputs": [],
   "source": [
    "lr = LinearRegression()\n",
    "lr.fit(X_train,Y_train)\n",
    "svm = SVR()\n",
    "svm.fit(X_train,Y_train)\n",
    "rf = RandomForestRegressor()\n",
    "rf.fit(X_train,Y_train)\n",
    "gr = GradientBoostingRegressor()\n",
    "gr.fit(X_train,Y_train)\n"
   ]
  },
  {
   "cell_type": "markdown",
   "metadata": {},
   "source": [
    "**Prediction on test data**"
   ]
  },
  {
   "cell_type": "code",
   "execution_count": 209,
   "metadata": {
    "execution": {
     "iopub.execute_input": "2022-02-09T15:09:18.346421Z",
     "iopub.status.busy": "2022-02-09T15:09:18.345701Z",
     "iopub.status.idle": "2022-02-09T15:09:18.394315Z",
     "shell.execute_reply": "2022-02-09T15:09:18.392676Z",
     "shell.execute_reply.started": "2022-02-09T15:09:18.346382Z"
    }
   },
   "outputs": [],
   "source": [
    "Y_pred1 = lr.predict(X_test)\n",
    "Y_pred2 = svm.predict(X_test)\n",
    "Y_pred3 = rf.predict(X_test)\n",
    "Y_pred4 = gr.predict(X_test)\n",
    "\n",
    "df1 = pd.DataFrame({'Actual':Y_test,'Lr':Y_pred1,\n",
    "                  'svm':Y_pred2,'rf':Y_pred3,'gr':Y_pred4})"
   ]
  },
  {
   "cell_type": "code",
   "execution_count": 210,
   "metadata": {
    "execution": {
     "iopub.execute_input": "2022-02-09T15:09:18.396505Z",
     "iopub.status.busy": "2022-02-09T15:09:18.396177Z",
     "iopub.status.idle": "2022-02-09T15:09:18.416271Z",
     "shell.execute_reply": "2022-02-09T15:09:18.415326Z",
     "shell.execute_reply.started": "2022-02-09T15:09:18.396470Z"
    }
   },
   "outputs": [],
   "source": [
    "df1"
   ]
  },
  {
   "cell_type": "markdown",
   "metadata": {},
   "source": [
    "**Compare Performance Visually**"
   ]
  },
  {
   "cell_type": "code",
   "execution_count": 211,
   "metadata": {
    "execution": {
     "iopub.execute_input": "2022-02-09T15:09:18.418418Z",
     "iopub.status.busy": "2022-02-09T15:09:18.417986Z",
     "iopub.status.idle": "2022-02-09T15:09:18.434114Z",
     "shell.execute_reply": "2022-02-09T15:09:18.433392Z",
     "shell.execute_reply.started": "2022-02-09T15:09:18.418387Z"
    }
   },
   "outputs": [],
   "source": [
    "import matplotlib.pyplot as plt\n"
   ]
  },
  {
   "cell_type": "code",
   "execution_count": 212,
   "metadata": {
    "execution": {
     "iopub.execute_input": "2022-02-09T15:09:18.436145Z",
     "iopub.status.busy": "2022-02-09T15:09:18.435607Z",
     "iopub.status.idle": "2022-02-09T15:09:19.136712Z",
     "shell.execute_reply": "2022-02-09T15:09:19.135489Z",
     "shell.execute_reply.started": "2022-02-09T15:09:18.436089Z"
    }
   },
   "outputs": [],
   "source": [
    "plt.subplot(221)\n",
    "plt.plot(df1['Actual'].iloc[0:11],label='Actual')\n",
    "plt.plot(df1['Lr'].iloc[0:11],label='Lr')\n",
    "plt.legend()\n",
    "\n",
    "plt.subplot(222)\n",
    "plt.plot(df1['Actual'].iloc[0:11],label='Actual')\n",
    "plt.plot(df1['svm'].iloc[0:11],label='svr')\n",
    "plt.legend()\n",
    "\n",
    "plt.subplot(223)\n",
    "plt.plot(df1['Actual'].iloc[0:11],label='Actual')\n",
    "plt.plot(df1['rf'].iloc[0:11],label='rf')\n",
    "plt.legend()\n",
    "\n",
    "plt.subplot(224)\n",
    "plt.plot(df1['Actual'].iloc[0:11],label='Actual')\n",
    "plt.plot(df1['gr'].iloc[0:11],label='gr')\n",
    "plt.legend()\n",
    "\n",
    "plt.tight_layout()\n",
    "\n"
   ]
  },
  {
   "cell_type": "markdown",
   "metadata": {},
   "source": [
    "**Evaluating the Algorithm**"
   ]
  },
  {
   "cell_type": "code",
   "execution_count": 213,
   "metadata": {
    "execution": {
     "iopub.execute_input": "2022-02-09T15:09:19.138277Z",
     "iopub.status.busy": "2022-02-09T15:09:19.138016Z",
     "iopub.status.idle": "2022-02-09T15:09:19.142713Z",
     "shell.execute_reply": "2022-02-09T15:09:19.141871Z",
     "shell.execute_reply.started": "2022-02-09T15:09:19.138245Z"
    }
   },
   "outputs": [],
   "source": [
    "from sklearn import metrics"
   ]
  },
  {
   "cell_type": "code",
   "execution_count": 214,
   "metadata": {
    "execution": {
     "iopub.execute_input": "2022-02-09T15:09:19.144251Z",
     "iopub.status.busy": "2022-02-09T15:09:19.143997Z",
     "iopub.status.idle": "2022-02-09T15:09:19.163216Z",
     "shell.execute_reply": "2022-02-09T15:09:19.162269Z",
     "shell.execute_reply.started": "2022-02-09T15:09:19.144211Z"
    }
   },
   "outputs": [],
   "source": [
    "score1 = metrics.r2_score(Y_test,Y_pred1)\n",
    "score2 = metrics.r2_score(Y_test,Y_pred2)\n",
    "score3 = metrics.r2_score(Y_test,Y_pred3)\n",
    "score4 = metrics.r2_score(Y_test,Y_pred4)"
   ]
  },
  {
   "cell_type": "code",
   "execution_count": 215,
   "metadata": {
    "execution": {
     "iopub.execute_input": "2022-02-09T15:09:19.165075Z",
     "iopub.status.busy": "2022-02-09T15:09:19.164816Z",
     "iopub.status.idle": "2022-02-09T15:09:19.178347Z",
     "shell.execute_reply": "2022-02-09T15:09:19.177627Z",
     "shell.execute_reply.started": "2022-02-09T15:09:19.165046Z"
    }
   },
   "outputs": [],
   "source": [
    "print(score1,score2,score3,score4)"
   ]
  },
  {
   "cell_type": "code",
   "execution_count": 216,
   "metadata": {
    "execution": {
     "iopub.execute_input": "2022-02-09T15:09:19.179917Z",
     "iopub.status.busy": "2022-02-09T15:09:19.179646Z",
     "iopub.status.idle": "2022-02-09T15:09:19.197852Z",
     "shell.execute_reply": "2022-02-09T15:09:19.196958Z",
     "shell.execute_reply.started": "2022-02-09T15:09:19.179872Z"
    }
   },
   "outputs": [],
   "source": [
    "s1 = metrics.mean_absolute_error(Y_test,Y_pred1)\n",
    "s2 = metrics.mean_absolute_error(Y_test,Y_pred2)\n",
    "s3 = metrics.mean_absolute_error(Y_test,Y_pred3)\n",
    "s4 = metrics.mean_absolute_error(Y_test,Y_pred4)"
   ]
  },
  {
   "cell_type": "code",
   "execution_count": 217,
   "metadata": {
    "execution": {
     "iopub.execute_input": "2022-02-09T15:09:19.199973Z",
     "iopub.status.busy": "2022-02-09T15:09:19.199116Z",
     "iopub.status.idle": "2022-02-09T15:09:19.214336Z",
     "shell.execute_reply": "2022-02-09T15:09:19.213518Z",
     "shell.execute_reply.started": "2022-02-09T15:09:19.199928Z"
    }
   },
   "outputs": [],
   "source": [
    "print(s1,s2,s3,s4)"
   ]
  },
  {
   "cell_type": "markdown",
   "metadata": {},
   "source": [
    "**Predict Charges for New Customer**"
   ]
  },
  {
   "cell_type": "code",
   "execution_count": 218,
   "metadata": {
    "execution": {
     "iopub.execute_input": "2022-02-09T15:09:19.216533Z",
     "iopub.status.busy": "2022-02-09T15:09:19.215454Z",
     "iopub.status.idle": "2022-02-09T15:09:19.240181Z",
     "shell.execute_reply": "2022-02-09T15:09:19.239161Z",
     "shell.execute_reply.started": "2022-02-09T15:09:19.216486Z"
    }
   },
   "outputs": [],
   "source": [
    "data = {'age':40,'sex':1,'bmi':40.30,'children':4,'smoker':1,'region':2}\n",
    "df = pd.DataFrame(data,index=[0])\n",
    "df"
   ]
  },
  {
   "cell_type": "code",
   "execution_count": 219,
   "metadata": {
    "execution": {
     "iopub.execute_input": "2022-02-09T15:09:19.241791Z",
     "iopub.status.busy": "2022-02-09T15:09:19.241533Z",
     "iopub.status.idle": "2022-02-09T15:09:19.249715Z",
     "shell.execute_reply": "2022-02-09T15:09:19.249022Z",
     "shell.execute_reply.started": "2022-02-09T15:09:19.241762Z"
    }
   },
   "outputs": [],
   "source": [
    "new_pred = gr.predict(df)\n",
    "print(new_pred)"
   ]
  },
  {
   "cell_type": "markdown",
   "metadata": {},
   "source": [
    "**Save Model using Joblib**"
   ]
  },
  {
   "cell_type": "code",
   "execution_count": 220,
   "metadata": {
    "execution": {
     "iopub.execute_input": "2022-02-09T15:09:19.251436Z",
     "iopub.status.busy": "2022-02-09T15:09:19.250882Z",
     "iopub.status.idle": "2022-02-09T15:09:19.387482Z",
     "shell.execute_reply": "2022-02-09T15:09:19.386794Z",
     "shell.execute_reply.started": "2022-02-09T15:09:19.251404Z"
    }
   },
   "outputs": [],
   "source": [
    "gr = GradientBoostingRegressor()\n",
    "gr.fit(X,Y)"
   ]
  },
  {
   "cell_type": "code",
   "execution_count": 221,
   "metadata": {
    "execution": {
     "iopub.execute_input": "2022-02-09T15:09:19.392383Z",
     "iopub.status.busy": "2022-02-09T15:09:19.391958Z",
     "iopub.status.idle": "2022-02-09T15:09:19.395842Z",
     "shell.execute_reply": "2022-02-09T15:09:19.394988Z",
     "shell.execute_reply.started": "2022-02-09T15:09:19.392351Z"
    }
   },
   "outputs": [],
   "source": [
    "import joblib"
   ]
  },
  {
   "cell_type": "code",
   "execution_count": 222,
   "metadata": {
    "execution": {
     "iopub.execute_input": "2022-02-09T15:09:19.397347Z",
     "iopub.status.busy": "2022-02-09T15:09:19.397055Z",
     "iopub.status.idle": "2022-02-09T15:09:19.422927Z",
     "shell.execute_reply": "2022-02-09T15:09:19.421995Z",
     "shell.execute_reply.started": "2022-02-09T15:09:19.397303Z"
    }
   },
   "outputs": [],
   "source": [
    "joblib.dump(gr,'model_joblib_gr')"
   ]
  },
  {
   "cell_type": "code",
   "execution_count": 223,
   "metadata": {
    "execution": {
     "iopub.execute_input": "2022-02-09T15:09:19.425011Z",
     "iopub.status.busy": "2022-02-09T15:09:19.424290Z",
     "iopub.status.idle": "2022-02-09T15:09:19.439449Z",
     "shell.execute_reply": "2022-02-09T15:09:19.438358Z",
     "shell.execute_reply.started": "2022-02-09T15:09:19.424974Z"
    }
   },
   "outputs": [],
   "source": [
    "model = joblib.load('model_joblib_gr')"
   ]
  },
  {
   "cell_type": "code",
   "execution_count": 224,
   "metadata": {
    "execution": {
     "iopub.execute_input": "2022-02-09T15:09:19.441013Z",
     "iopub.status.busy": "2022-02-09T15:09:19.440775Z",
     "iopub.status.idle": "2022-02-09T15:09:19.455077Z",
     "shell.execute_reply": "2022-02-09T15:09:19.454126Z",
     "shell.execute_reply.started": "2022-02-09T15:09:19.440984Z"
    }
   },
   "outputs": [],
   "source": [
    "model.predict(df)"
   ]
  },
  {
   "cell_type": "code",
   "execution_count": null,
   "metadata": {},
   "outputs": [],
   "source": []
  },
  {
   "cell_type": "code",
   "execution_count": null,
   "metadata": {},
   "outputs": [],
   "source": []
  },
  {
   "cell_type": "code",
   "execution_count": null,
   "metadata": {},
   "outputs": [],
   "source": []
  }
 ],
 "metadata": {
  "kernelspec": {
   "display_name": "Python 3 (ipykernel)",
   "language": "python",
   "name": "python3"
  },
  "language_info": {
   "codemirror_mode": {
    "name": "ipython",
    "version": 3
   },
   "file_extension": ".py",
   "mimetype": "text/x-python",
   "name": "python",
   "nbconvert_exporter": "python",
   "pygments_lexer": "ipython3",
   "version": "3.9.7"
  }
 },
 "nbformat": 4,
 "nbformat_minor": 4
}
