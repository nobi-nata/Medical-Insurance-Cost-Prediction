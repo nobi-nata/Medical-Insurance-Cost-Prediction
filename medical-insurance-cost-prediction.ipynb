{
 "cells": [
  {
   "cell_type": "code",
   "execution_count": 1,
   "metadata": {
    "_cell_guid": "b1076dfc-b9ad-4769-8c92-a6c4dae69d19",
    "_uuid": "8f2839f25d086af736a60e9eeb907d3b93b6e0e5",
    "execution": {
     "iopub.execute_input": "2022-02-09T15:09:17.259828Z",
     "iopub.status.busy": "2022-02-09T15:09:17.259315Z",
     "iopub.status.idle": "2022-02-09T15:09:17.270279Z",
     "shell.execute_reply": "2022-02-09T15:09:17.269407Z",
     "shell.execute_reply.started": "2022-02-09T15:09:17.259774Z"
    }
   },
   "outputs": [],
   "source": [
    "# This Python 3 environment comes with many helpful analytics libraries installed\n",
    "# It is defined by the kaggle/python Docker image: https://github.com/kaggle/docker-python\n",
    "# For example, here's several helpful packages to load\n",
    "\n",
    "import numpy as np # linear algebra\n",
    "import pandas as pd # data processing, CSV file I/O (e.g. pd.read_csv)\n",
    "\n",
    "# Input data files are available in the read-only \"../input/\" directory\n",
    "# For example, running this (by clicking run or pressing Shift+Enter) will list all files under the input directory\n",
    "\n",
    "import os\n",
    "for dirname, _, filenames in os.walk('/kaggle/input'):\n",
    "    for filename in filenames:\n",
    "        print(os.path.join(dirname, filename))\n",
    "\n",
    "# You can write up to 20GB to the current directory (/kaggle/working/) that gets preserved as output when you create a version using \"Save & Run All\" \n",
    "# You can also write temporary files to /kaggle/temp/, but they won't be saved outside of the current session"
   ]
  },
  {
   "cell_type": "code",
   "execution_count": 2,
   "metadata": {
    "execution": {
     "iopub.execute_input": "2022-02-09T15:09:17.272463Z",
     "iopub.status.busy": "2022-02-09T15:09:17.272050Z",
     "iopub.status.idle": "2022-02-09T15:09:17.292259Z",
     "shell.execute_reply": "2022-02-09T15:09:17.291258Z",
     "shell.execute_reply.started": "2022-02-09T15:09:17.272412Z"
    }
   },
   "outputs": [],
   "source": [
    "import numpy as np # linear algebra\n",
    "import pandas as pd\n",
    "data = pd.read_csv('insurance.csv')"
   ]
  },
  {
   "cell_type": "markdown",
   "metadata": {},
   "source": [
    "**Display top 5 rows of the dataset**"
   ]
  },
  {
   "cell_type": "code",
   "execution_count": 3,
   "metadata": {
    "execution": {
     "iopub.execute_input": "2022-02-09T15:09:17.294119Z",
     "iopub.status.busy": "2022-02-09T15:09:17.293711Z",
     "iopub.status.idle": "2022-02-09T15:09:17.310093Z",
     "shell.execute_reply": "2022-02-09T15:09:17.309315Z",
     "shell.execute_reply.started": "2022-02-09T15:09:17.294070Z"
    }
   },
   "outputs": [
    {
     "data": {
      "text/html": [
       "<div>\n",
       "<style scoped>\n",
       "    .dataframe tbody tr th:only-of-type {\n",
       "        vertical-align: middle;\n",
       "    }\n",
       "\n",
       "    .dataframe tbody tr th {\n",
       "        vertical-align: top;\n",
       "    }\n",
       "\n",
       "    .dataframe thead th {\n",
       "        text-align: right;\n",
       "    }\n",
       "</style>\n",
       "<table border=\"1\" class=\"dataframe\">\n",
       "  <thead>\n",
       "    <tr style=\"text-align: right;\">\n",
       "      <th></th>\n",
       "      <th>age</th>\n",
       "      <th>gender</th>\n",
       "      <th>bmi</th>\n",
       "      <th>children</th>\n",
       "      <th>medical</th>\n",
       "      <th>region</th>\n",
       "      <th>charges</th>\n",
       "    </tr>\n",
       "  </thead>\n",
       "  <tbody>\n",
       "    <tr>\n",
       "      <th>0</th>\n",
       "      <td>19.0</td>\n",
       "      <td>female</td>\n",
       "      <td>27.900</td>\n",
       "      <td>0.0</td>\n",
       "      <td>yes</td>\n",
       "      <td>southwest</td>\n",
       "      <td>16884.92400</td>\n",
       "    </tr>\n",
       "    <tr>\n",
       "      <th>1</th>\n",
       "      <td>18.0</td>\n",
       "      <td>male</td>\n",
       "      <td>33.770</td>\n",
       "      <td>1.0</td>\n",
       "      <td>no</td>\n",
       "      <td>southeast</td>\n",
       "      <td>1725.55230</td>\n",
       "    </tr>\n",
       "    <tr>\n",
       "      <th>2</th>\n",
       "      <td>28.0</td>\n",
       "      <td>male</td>\n",
       "      <td>33.000</td>\n",
       "      <td>3.0</td>\n",
       "      <td>no</td>\n",
       "      <td>southeast</td>\n",
       "      <td>4449.46200</td>\n",
       "    </tr>\n",
       "    <tr>\n",
       "      <th>3</th>\n",
       "      <td>33.0</td>\n",
       "      <td>male</td>\n",
       "      <td>22.705</td>\n",
       "      <td>0.0</td>\n",
       "      <td>no</td>\n",
       "      <td>northwest</td>\n",
       "      <td>21984.47061</td>\n",
       "    </tr>\n",
       "    <tr>\n",
       "      <th>4</th>\n",
       "      <td>32.0</td>\n",
       "      <td>male</td>\n",
       "      <td>28.880</td>\n",
       "      <td>0.0</td>\n",
       "      <td>no</td>\n",
       "      <td>northwest</td>\n",
       "      <td>3866.85520</td>\n",
       "    </tr>\n",
       "  </tbody>\n",
       "</table>\n",
       "</div>"
      ],
      "text/plain": [
       "    age  gender     bmi  children medical     region      charges\n",
       "0  19.0  female  27.900       0.0     yes  southwest  16884.92400\n",
       "1  18.0    male  33.770       1.0      no  southeast   1725.55230\n",
       "2  28.0    male  33.000       3.0      no  southeast   4449.46200\n",
       "3  33.0    male  22.705       0.0      no  northwest  21984.47061\n",
       "4  32.0    male  28.880       0.0      no  northwest   3866.85520"
      ]
     },
     "execution_count": 3,
     "metadata": {},
     "output_type": "execute_result"
    }
   ],
   "source": [
    "data.head()"
   ]
  },
  {
   "cell_type": "markdown",
   "metadata": {},
   "source": [
    "**display last 5 rows of the dataset**"
   ]
  },
  {
   "cell_type": "code",
   "execution_count": 4,
   "metadata": {
    "execution": {
     "iopub.execute_input": "2022-02-09T15:09:17.312212Z",
     "iopub.status.busy": "2022-02-09T15:09:17.311463Z",
     "iopub.status.idle": "2022-02-09T15:09:17.330194Z",
     "shell.execute_reply": "2022-02-09T15:09:17.329320Z",
     "shell.execute_reply.started": "2022-02-09T15:09:17.312174Z"
    }
   },
   "outputs": [
    {
     "data": {
      "text/html": [
       "<div>\n",
       "<style scoped>\n",
       "    .dataframe tbody tr th:only-of-type {\n",
       "        vertical-align: middle;\n",
       "    }\n",
       "\n",
       "    .dataframe tbody tr th {\n",
       "        vertical-align: top;\n",
       "    }\n",
       "\n",
       "    .dataframe thead th {\n",
       "        text-align: right;\n",
       "    }\n",
       "</style>\n",
       "<table border=\"1\" class=\"dataframe\">\n",
       "  <thead>\n",
       "    <tr style=\"text-align: right;\">\n",
       "      <th></th>\n",
       "      <th>age</th>\n",
       "      <th>gender</th>\n",
       "      <th>bmi</th>\n",
       "      <th>children</th>\n",
       "      <th>medical</th>\n",
       "      <th>region</th>\n",
       "      <th>charges</th>\n",
       "    </tr>\n",
       "  </thead>\n",
       "  <tbody>\n",
       "    <tr>\n",
       "      <th>1336</th>\n",
       "      <td>21.0</td>\n",
       "      <td>female</td>\n",
       "      <td>25.80</td>\n",
       "      <td>0.0</td>\n",
       "      <td>no</td>\n",
       "      <td>southwest</td>\n",
       "      <td>2007.9450</td>\n",
       "    </tr>\n",
       "    <tr>\n",
       "      <th>1337</th>\n",
       "      <td>61.0</td>\n",
       "      <td>female</td>\n",
       "      <td>29.07</td>\n",
       "      <td>0.0</td>\n",
       "      <td>yes</td>\n",
       "      <td>northwest</td>\n",
       "      <td>29141.3603</td>\n",
       "    </tr>\n",
       "    <tr>\n",
       "      <th>1338</th>\n",
       "      <td>20.0</td>\n",
       "      <td>male</td>\n",
       "      <td>26.00</td>\n",
       "      <td>0.0</td>\n",
       "      <td>no</td>\n",
       "      <td>southeast</td>\n",
       "      <td>100000.0000</td>\n",
       "    </tr>\n",
       "    <tr>\n",
       "      <th>1339</th>\n",
       "      <td>50.0</td>\n",
       "      <td>female</td>\n",
       "      <td>50.00</td>\n",
       "      <td>5.0</td>\n",
       "      <td>yes</td>\n",
       "      <td>northeast</td>\n",
       "      <td>500000.0000</td>\n",
       "    </tr>\n",
       "    <tr>\n",
       "      <th>1340</th>\n",
       "      <td>20.0</td>\n",
       "      <td>male</td>\n",
       "      <td>20.00</td>\n",
       "      <td>2.0</td>\n",
       "      <td>yes</td>\n",
       "      <td>northwest</td>\n",
       "      <td>10000.0000</td>\n",
       "    </tr>\n",
       "  </tbody>\n",
       "</table>\n",
       "</div>"
      ],
      "text/plain": [
       "       age  gender    bmi  children medical     region      charges\n",
       "1336  21.0  female  25.80       0.0      no  southwest    2007.9450\n",
       "1337  61.0  female  29.07       0.0     yes  northwest   29141.3603\n",
       "1338  20.0    male  26.00       0.0      no  southeast  100000.0000\n",
       "1339  50.0  female  50.00       5.0     yes  northeast  500000.0000\n",
       "1340  20.0    male  20.00       2.0     yes  northwest   10000.0000"
      ]
     },
     "execution_count": 4,
     "metadata": {},
     "output_type": "execute_result"
    }
   ],
   "source": [
    "data.tail()"
   ]
  },
  {
   "cell_type": "markdown",
   "metadata": {},
   "source": [
    "**Find Shape of our dataset (no of rows and no of columns)**"
   ]
  },
  {
   "cell_type": "code",
   "execution_count": 5,
   "metadata": {
    "execution": {
     "iopub.execute_input": "2022-02-09T15:09:17.332830Z",
     "iopub.status.busy": "2022-02-09T15:09:17.332530Z",
     "iopub.status.idle": "2022-02-09T15:09:17.351209Z",
     "shell.execute_reply": "2022-02-09T15:09:17.350031Z",
     "shell.execute_reply.started": "2022-02-09T15:09:17.332797Z"
    }
   },
   "outputs": [
    {
     "data": {
      "text/plain": [
       "(1341, 7)"
      ]
     },
     "execution_count": 5,
     "metadata": {},
     "output_type": "execute_result"
    }
   ],
   "source": [
    "data.shape"
   ]
  },
  {
   "cell_type": "code",
   "execution_count": 6,
   "metadata": {
    "execution": {
     "iopub.execute_input": "2022-02-09T15:09:17.353501Z",
     "iopub.status.busy": "2022-02-09T15:09:17.353170Z",
     "iopub.status.idle": "2022-02-09T15:09:17.371518Z",
     "shell.execute_reply": "2022-02-09T15:09:17.370614Z",
     "shell.execute_reply.started": "2022-02-09T15:09:17.353448Z"
    }
   },
   "outputs": [
    {
     "name": "stdout",
     "output_type": "stream",
     "text": [
      "Number of rows:  1341\n",
      "Number of columns:  7\n"
     ]
    }
   ],
   "source": [
    "print(\"Number of rows: \",data.shape[0])\n",
    "print(\"Number of columns: \",data.shape[1])"
   ]
  },
  {
   "cell_type": "markdown",
   "metadata": {},
   "source": [
    "**Get Information about our Dataset like Total no of rows, Total no of Colunms ,Datatypes of each colunms and Memory Requirement**"
   ]
  },
  {
   "cell_type": "code",
   "execution_count": 7,
   "metadata": {
    "execution": {
     "iopub.execute_input": "2022-02-09T15:09:17.374317Z",
     "iopub.status.busy": "2022-02-09T15:09:17.373363Z",
     "iopub.status.idle": "2022-02-09T15:09:17.400163Z",
     "shell.execute_reply": "2022-02-09T15:09:17.399275Z",
     "shell.execute_reply.started": "2022-02-09T15:09:17.374203Z"
    }
   },
   "outputs": [
    {
     "name": "stdout",
     "output_type": "stream",
     "text": [
      "<class 'pandas.core.frame.DataFrame'>\n",
      "RangeIndex: 1341 entries, 0 to 1340\n",
      "Data columns (total 7 columns):\n",
      " #   Column    Non-Null Count  Dtype  \n",
      "---  ------    --------------  -----  \n",
      " 0   age       1341 non-null   float64\n",
      " 1   gender    1341 non-null   object \n",
      " 2   bmi       1341 non-null   float64\n",
      " 3   children  1341 non-null   float64\n",
      " 4   medical   1341 non-null   object \n",
      " 5   region    1341 non-null   object \n",
      " 6   charges   1341 non-null   float64\n",
      "dtypes: float64(4), object(3)\n",
      "memory usage: 73.5+ KB\n"
     ]
    }
   ],
   "source": [
    "data.info()"
   ]
  },
  {
   "cell_type": "markdown",
   "metadata": {},
   "source": [
    "**Check Null Values in Our Dataset**"
   ]
  },
  {
   "cell_type": "code",
   "execution_count": 8,
   "metadata": {
    "execution": {
     "iopub.execute_input": "2022-02-09T15:09:17.402744Z",
     "iopub.status.busy": "2022-02-09T15:09:17.402149Z",
     "iopub.status.idle": "2022-02-09T15:09:17.415803Z",
     "shell.execute_reply": "2022-02-09T15:09:17.414855Z",
     "shell.execute_reply.started": "2022-02-09T15:09:17.402696Z"
    }
   },
   "outputs": [
    {
     "data": {
      "text/plain": [
       "age         0\n",
       "gender      0\n",
       "bmi         0\n",
       "children    0\n",
       "medical     0\n",
       "region      0\n",
       "charges     0\n",
       "dtype: int64"
      ]
     },
     "execution_count": 8,
     "metadata": {},
     "output_type": "execute_result"
    }
   ],
   "source": [
    "data.isnull().sum()"
   ]
  },
  {
   "cell_type": "markdown",
   "metadata": {},
   "source": [
    "**Get overall Statistics about the dataset**"
   ]
  },
  {
   "cell_type": "code",
   "execution_count": 9,
   "metadata": {
    "execution": {
     "iopub.execute_input": "2022-02-09T15:09:17.418420Z",
     "iopub.status.busy": "2022-02-09T15:09:17.417740Z",
     "iopub.status.idle": "2022-02-09T15:09:17.459542Z",
     "shell.execute_reply": "2022-02-09T15:09:17.458669Z",
     "shell.execute_reply.started": "2022-02-09T15:09:17.418370Z"
    }
   },
   "outputs": [
    {
     "data": {
      "text/html": [
       "<div>\n",
       "<style scoped>\n",
       "    .dataframe tbody tr th:only-of-type {\n",
       "        vertical-align: middle;\n",
       "    }\n",
       "\n",
       "    .dataframe tbody tr th {\n",
       "        vertical-align: top;\n",
       "    }\n",
       "\n",
       "    .dataframe thead th {\n",
       "        text-align: right;\n",
       "    }\n",
       "</style>\n",
       "<table border=\"1\" class=\"dataframe\">\n",
       "  <thead>\n",
       "    <tr style=\"text-align: right;\">\n",
       "      <th></th>\n",
       "      <th>age</th>\n",
       "      <th>gender</th>\n",
       "      <th>bmi</th>\n",
       "      <th>children</th>\n",
       "      <th>medical</th>\n",
       "      <th>region</th>\n",
       "      <th>charges</th>\n",
       "    </tr>\n",
       "  </thead>\n",
       "  <tbody>\n",
       "    <tr>\n",
       "      <th>count</th>\n",
       "      <td>1341.000000</td>\n",
       "      <td>1341</td>\n",
       "      <td>1341.000000</td>\n",
       "      <td>1341.000000</td>\n",
       "      <td>1341</td>\n",
       "      <td>1341</td>\n",
       "      <td>1341.000000</td>\n",
       "    </tr>\n",
       "    <tr>\n",
       "      <th>unique</th>\n",
       "      <td>NaN</td>\n",
       "      <td>2</td>\n",
       "      <td>NaN</td>\n",
       "      <td>NaN</td>\n",
       "      <td>2</td>\n",
       "      <td>4</td>\n",
       "      <td>NaN</td>\n",
       "    </tr>\n",
       "    <tr>\n",
       "      <th>top</th>\n",
       "      <td>NaN</td>\n",
       "      <td>male</td>\n",
       "      <td>NaN</td>\n",
       "      <td>NaN</td>\n",
       "      <td>no</td>\n",
       "      <td>southeast</td>\n",
       "      <td>NaN</td>\n",
       "    </tr>\n",
       "    <tr>\n",
       "      <th>freq</th>\n",
       "      <td>NaN</td>\n",
       "      <td>678</td>\n",
       "      <td>NaN</td>\n",
       "      <td>NaN</td>\n",
       "      <td>1065</td>\n",
       "      <td>365</td>\n",
       "      <td>NaN</td>\n",
       "    </tr>\n",
       "    <tr>\n",
       "      <th>mean</th>\n",
       "      <td>39.186428</td>\n",
       "      <td>NaN</td>\n",
       "      <td>30.666387</td>\n",
       "      <td>1.097688</td>\n",
       "      <td>NaN</td>\n",
       "      <td>NaN</td>\n",
       "      <td>13695.618934</td>\n",
       "    </tr>\n",
       "    <tr>\n",
       "      <th>std</th>\n",
       "      <td>14.056904</td>\n",
       "      <td>NaN</td>\n",
       "      <td>6.122478</td>\n",
       "      <td>1.209478</td>\n",
       "      <td>NaN</td>\n",
       "      <td>NaN</td>\n",
       "      <td>18126.219493</td>\n",
       "    </tr>\n",
       "    <tr>\n",
       "      <th>min</th>\n",
       "      <td>18.000000</td>\n",
       "      <td>NaN</td>\n",
       "      <td>15.960000</td>\n",
       "      <td>0.000000</td>\n",
       "      <td>NaN</td>\n",
       "      <td>NaN</td>\n",
       "      <td>1121.873900</td>\n",
       "    </tr>\n",
       "    <tr>\n",
       "      <th>25%</th>\n",
       "      <td>26.000000</td>\n",
       "      <td>NaN</td>\n",
       "      <td>26.220000</td>\n",
       "      <td>0.000000</td>\n",
       "      <td>NaN</td>\n",
       "      <td>NaN</td>\n",
       "      <td>4746.344000</td>\n",
       "    </tr>\n",
       "    <tr>\n",
       "      <th>50%</th>\n",
       "      <td>39.000000</td>\n",
       "      <td>NaN</td>\n",
       "      <td>30.400000</td>\n",
       "      <td>1.000000</td>\n",
       "      <td>NaN</td>\n",
       "      <td>NaN</td>\n",
       "      <td>9391.346000</td>\n",
       "    </tr>\n",
       "    <tr>\n",
       "      <th>75%</th>\n",
       "      <td>51.000000</td>\n",
       "      <td>NaN</td>\n",
       "      <td>34.700000</td>\n",
       "      <td>2.000000</td>\n",
       "      <td>NaN</td>\n",
       "      <td>NaN</td>\n",
       "      <td>16776.304050</td>\n",
       "    </tr>\n",
       "    <tr>\n",
       "      <th>max</th>\n",
       "      <td>64.000000</td>\n",
       "      <td>NaN</td>\n",
       "      <td>53.130000</td>\n",
       "      <td>5.000000</td>\n",
       "      <td>NaN</td>\n",
       "      <td>NaN</td>\n",
       "      <td>500000.000000</td>\n",
       "    </tr>\n",
       "  </tbody>\n",
       "</table>\n",
       "</div>"
      ],
      "text/plain": [
       "                age gender          bmi     children medical     region  \\\n",
       "count   1341.000000   1341  1341.000000  1341.000000    1341       1341   \n",
       "unique          NaN      2          NaN          NaN       2          4   \n",
       "top             NaN   male          NaN          NaN      no  southeast   \n",
       "freq            NaN    678          NaN          NaN    1065        365   \n",
       "mean      39.186428    NaN    30.666387     1.097688     NaN        NaN   \n",
       "std       14.056904    NaN     6.122478     1.209478     NaN        NaN   \n",
       "min       18.000000    NaN    15.960000     0.000000     NaN        NaN   \n",
       "25%       26.000000    NaN    26.220000     0.000000     NaN        NaN   \n",
       "50%       39.000000    NaN    30.400000     1.000000     NaN        NaN   \n",
       "75%       51.000000    NaN    34.700000     2.000000     NaN        NaN   \n",
       "max       64.000000    NaN    53.130000     5.000000     NaN        NaN   \n",
       "\n",
       "              charges  \n",
       "count     1341.000000  \n",
       "unique            NaN  \n",
       "top               NaN  \n",
       "freq              NaN  \n",
       "mean     13695.618934  \n",
       "std      18126.219493  \n",
       "min       1121.873900  \n",
       "25%       4746.344000  \n",
       "50%       9391.346000  \n",
       "75%      16776.304050  \n",
       "max     500000.000000  "
      ]
     },
     "execution_count": 9,
     "metadata": {},
     "output_type": "execute_result"
    }
   ],
   "source": [
    "data.describe(include=\"all\")"
   ]
  },
  {
   "cell_type": "markdown",
   "metadata": {},
   "source": [
    "**Convert Columns from String(sex,smoker,region)to Numerical values**"
   ]
  },
  {
   "cell_type": "code",
   "execution_count": 12,
   "metadata": {
    "execution": {
     "iopub.execute_input": "2022-02-09T15:09:17.461815Z",
     "iopub.status.busy": "2022-02-09T15:09:17.461471Z",
     "iopub.status.idle": "2022-02-09T15:09:17.479022Z",
     "shell.execute_reply": "2022-02-09T15:09:17.478175Z",
     "shell.execute_reply.started": "2022-02-09T15:09:17.461773Z"
    }
   },
   "outputs": [
    {
     "data": {
      "text/html": [
       "<div>\n",
       "<style scoped>\n",
       "    .dataframe tbody tr th:only-of-type {\n",
       "        vertical-align: middle;\n",
       "    }\n",
       "\n",
       "    .dataframe tbody tr th {\n",
       "        vertical-align: top;\n",
       "    }\n",
       "\n",
       "    .dataframe thead th {\n",
       "        text-align: right;\n",
       "    }\n",
       "</style>\n",
       "<table border=\"1\" class=\"dataframe\">\n",
       "  <thead>\n",
       "    <tr style=\"text-align: right;\">\n",
       "      <th></th>\n",
       "      <th>age</th>\n",
       "      <th>gender</th>\n",
       "      <th>bmi</th>\n",
       "      <th>children</th>\n",
       "      <th>medical</th>\n",
       "      <th>region</th>\n",
       "      <th>charges</th>\n",
       "    </tr>\n",
       "  </thead>\n",
       "  <tbody>\n",
       "    <tr>\n",
       "      <th>0</th>\n",
       "      <td>19.0</td>\n",
       "      <td>female</td>\n",
       "      <td>27.900</td>\n",
       "      <td>0.0</td>\n",
       "      <td>yes</td>\n",
       "      <td>southwest</td>\n",
       "      <td>16884.92400</td>\n",
       "    </tr>\n",
       "    <tr>\n",
       "      <th>1</th>\n",
       "      <td>18.0</td>\n",
       "      <td>male</td>\n",
       "      <td>33.770</td>\n",
       "      <td>1.0</td>\n",
       "      <td>no</td>\n",
       "      <td>southeast</td>\n",
       "      <td>1725.55230</td>\n",
       "    </tr>\n",
       "    <tr>\n",
       "      <th>2</th>\n",
       "      <td>28.0</td>\n",
       "      <td>male</td>\n",
       "      <td>33.000</td>\n",
       "      <td>3.0</td>\n",
       "      <td>no</td>\n",
       "      <td>southeast</td>\n",
       "      <td>4449.46200</td>\n",
       "    </tr>\n",
       "    <tr>\n",
       "      <th>3</th>\n",
       "      <td>33.0</td>\n",
       "      <td>male</td>\n",
       "      <td>22.705</td>\n",
       "      <td>0.0</td>\n",
       "      <td>no</td>\n",
       "      <td>northwest</td>\n",
       "      <td>21984.47061</td>\n",
       "    </tr>\n",
       "    <tr>\n",
       "      <th>4</th>\n",
       "      <td>32.0</td>\n",
       "      <td>male</td>\n",
       "      <td>28.880</td>\n",
       "      <td>0.0</td>\n",
       "      <td>no</td>\n",
       "      <td>northwest</td>\n",
       "      <td>3866.85520</td>\n",
       "    </tr>\n",
       "  </tbody>\n",
       "</table>\n",
       "</div>"
      ],
      "text/plain": [
       "    age  gender     bmi  children medical     region      charges\n",
       "0  19.0  female  27.900       0.0     yes  southwest  16884.92400\n",
       "1  18.0    male  33.770       1.0      no  southeast   1725.55230\n",
       "2  28.0    male  33.000       3.0      no  southeast   4449.46200\n",
       "3  33.0    male  22.705       0.0      no  northwest  21984.47061\n",
       "4  32.0    male  28.880       0.0      no  northwest   3866.85520"
      ]
     },
     "execution_count": 12,
     "metadata": {},
     "output_type": "execute_result"
    }
   ],
   "source": [
    "data.head()"
   ]
  },
  {
   "cell_type": "code",
   "execution_count": 13,
   "metadata": {
    "execution": {
     "iopub.execute_input": "2022-02-09T15:09:17.481233Z",
     "iopub.status.busy": "2022-02-09T15:09:17.480399Z",
     "iopub.status.idle": "2022-02-09T15:09:17.489900Z",
     "shell.execute_reply": "2022-02-09T15:09:17.488869Z",
     "shell.execute_reply.started": "2022-02-09T15:09:17.481183Z"
    }
   },
   "outputs": [
    {
     "data": {
      "text/plain": [
       "array(['female', 'male'], dtype=object)"
      ]
     },
     "execution_count": 13,
     "metadata": {},
     "output_type": "execute_result"
    }
   ],
   "source": [
    "data['gender'].unique()"
   ]
  },
  {
   "cell_type": "code",
   "execution_count": 14,
   "metadata": {
    "execution": {
     "iopub.execute_input": "2022-02-09T15:09:17.491927Z",
     "iopub.status.busy": "2022-02-09T15:09:17.491391Z",
     "iopub.status.idle": "2022-02-09T15:09:17.507265Z",
     "shell.execute_reply": "2022-02-09T15:09:17.506238Z",
     "shell.execute_reply.started": "2022-02-09T15:09:17.491879Z"
    }
   },
   "outputs": [],
   "source": [
    "data['gender']=data['gender'].map({'female':0,'male':1})"
   ]
  },
  {
   "cell_type": "code",
   "execution_count": 15,
   "metadata": {
    "execution": {
     "iopub.execute_input": "2022-02-09T15:09:17.509447Z",
     "iopub.status.busy": "2022-02-09T15:09:17.508690Z",
     "iopub.status.idle": "2022-02-09T15:09:17.535792Z",
     "shell.execute_reply": "2022-02-09T15:09:17.534982Z",
     "shell.execute_reply.started": "2022-02-09T15:09:17.509408Z"
    }
   },
   "outputs": [
    {
     "data": {
      "text/html": [
       "<div>\n",
       "<style scoped>\n",
       "    .dataframe tbody tr th:only-of-type {\n",
       "        vertical-align: middle;\n",
       "    }\n",
       "\n",
       "    .dataframe tbody tr th {\n",
       "        vertical-align: top;\n",
       "    }\n",
       "\n",
       "    .dataframe thead th {\n",
       "        text-align: right;\n",
       "    }\n",
       "</style>\n",
       "<table border=\"1\" class=\"dataframe\">\n",
       "  <thead>\n",
       "    <tr style=\"text-align: right;\">\n",
       "      <th></th>\n",
       "      <th>age</th>\n",
       "      <th>gender</th>\n",
       "      <th>bmi</th>\n",
       "      <th>children</th>\n",
       "      <th>medical</th>\n",
       "      <th>region</th>\n",
       "      <th>charges</th>\n",
       "    </tr>\n",
       "  </thead>\n",
       "  <tbody>\n",
       "    <tr>\n",
       "      <th>0</th>\n",
       "      <td>19.0</td>\n",
       "      <td>0</td>\n",
       "      <td>27.900</td>\n",
       "      <td>0.0</td>\n",
       "      <td>yes</td>\n",
       "      <td>southwest</td>\n",
       "      <td>16884.92400</td>\n",
       "    </tr>\n",
       "    <tr>\n",
       "      <th>1</th>\n",
       "      <td>18.0</td>\n",
       "      <td>1</td>\n",
       "      <td>33.770</td>\n",
       "      <td>1.0</td>\n",
       "      <td>no</td>\n",
       "      <td>southeast</td>\n",
       "      <td>1725.55230</td>\n",
       "    </tr>\n",
       "    <tr>\n",
       "      <th>2</th>\n",
       "      <td>28.0</td>\n",
       "      <td>1</td>\n",
       "      <td>33.000</td>\n",
       "      <td>3.0</td>\n",
       "      <td>no</td>\n",
       "      <td>southeast</td>\n",
       "      <td>4449.46200</td>\n",
       "    </tr>\n",
       "    <tr>\n",
       "      <th>3</th>\n",
       "      <td>33.0</td>\n",
       "      <td>1</td>\n",
       "      <td>22.705</td>\n",
       "      <td>0.0</td>\n",
       "      <td>no</td>\n",
       "      <td>northwest</td>\n",
       "      <td>21984.47061</td>\n",
       "    </tr>\n",
       "    <tr>\n",
       "      <th>4</th>\n",
       "      <td>32.0</td>\n",
       "      <td>1</td>\n",
       "      <td>28.880</td>\n",
       "      <td>0.0</td>\n",
       "      <td>no</td>\n",
       "      <td>northwest</td>\n",
       "      <td>3866.85520</td>\n",
       "    </tr>\n",
       "  </tbody>\n",
       "</table>\n",
       "</div>"
      ],
      "text/plain": [
       "    age  gender     bmi  children medical     region      charges\n",
       "0  19.0       0  27.900       0.0     yes  southwest  16884.92400\n",
       "1  18.0       1  33.770       1.0      no  southeast   1725.55230\n",
       "2  28.0       1  33.000       3.0      no  southeast   4449.46200\n",
       "3  33.0       1  22.705       0.0      no  northwest  21984.47061\n",
       "4  32.0       1  28.880       0.0      no  northwest   3866.85520"
      ]
     },
     "execution_count": 15,
     "metadata": {},
     "output_type": "execute_result"
    }
   ],
   "source": [
    "data.head()"
   ]
  },
  {
   "cell_type": "code",
   "execution_count": 16,
   "metadata": {
    "execution": {
     "iopub.execute_input": "2022-02-09T15:09:17.539982Z",
     "iopub.status.busy": "2022-02-09T15:09:17.539450Z",
     "iopub.status.idle": "2022-02-09T15:09:17.546707Z",
     "shell.execute_reply": "2022-02-09T15:09:17.545532Z",
     "shell.execute_reply.started": "2022-02-09T15:09:17.539943Z"
    },
    "scrolled": true
   },
   "outputs": [],
   "source": [
    "data['medical']=data['medical'].map({'yes':1,'no':0})"
   ]
  },
  {
   "cell_type": "code",
   "execution_count": 17,
   "metadata": {
    "execution": {
     "iopub.execute_input": "2022-02-09T15:09:17.548228Z",
     "iopub.status.busy": "2022-02-09T15:09:17.547968Z",
     "iopub.status.idle": "2022-02-09T15:09:17.572880Z",
     "shell.execute_reply": "2022-02-09T15:09:17.572016Z",
     "shell.execute_reply.started": "2022-02-09T15:09:17.548191Z"
    }
   },
   "outputs": [
    {
     "data": {
      "text/html": [
       "<div>\n",
       "<style scoped>\n",
       "    .dataframe tbody tr th:only-of-type {\n",
       "        vertical-align: middle;\n",
       "    }\n",
       "\n",
       "    .dataframe tbody tr th {\n",
       "        vertical-align: top;\n",
       "    }\n",
       "\n",
       "    .dataframe thead th {\n",
       "        text-align: right;\n",
       "    }\n",
       "</style>\n",
       "<table border=\"1\" class=\"dataframe\">\n",
       "  <thead>\n",
       "    <tr style=\"text-align: right;\">\n",
       "      <th></th>\n",
       "      <th>age</th>\n",
       "      <th>gender</th>\n",
       "      <th>bmi</th>\n",
       "      <th>children</th>\n",
       "      <th>medical</th>\n",
       "      <th>region</th>\n",
       "      <th>charges</th>\n",
       "    </tr>\n",
       "  </thead>\n",
       "  <tbody>\n",
       "    <tr>\n",
       "      <th>0</th>\n",
       "      <td>19.0</td>\n",
       "      <td>0</td>\n",
       "      <td>27.900</td>\n",
       "      <td>0.0</td>\n",
       "      <td>1</td>\n",
       "      <td>southwest</td>\n",
       "      <td>16884.92400</td>\n",
       "    </tr>\n",
       "    <tr>\n",
       "      <th>1</th>\n",
       "      <td>18.0</td>\n",
       "      <td>1</td>\n",
       "      <td>33.770</td>\n",
       "      <td>1.0</td>\n",
       "      <td>0</td>\n",
       "      <td>southeast</td>\n",
       "      <td>1725.55230</td>\n",
       "    </tr>\n",
       "    <tr>\n",
       "      <th>2</th>\n",
       "      <td>28.0</td>\n",
       "      <td>1</td>\n",
       "      <td>33.000</td>\n",
       "      <td>3.0</td>\n",
       "      <td>0</td>\n",
       "      <td>southeast</td>\n",
       "      <td>4449.46200</td>\n",
       "    </tr>\n",
       "    <tr>\n",
       "      <th>3</th>\n",
       "      <td>33.0</td>\n",
       "      <td>1</td>\n",
       "      <td>22.705</td>\n",
       "      <td>0.0</td>\n",
       "      <td>0</td>\n",
       "      <td>northwest</td>\n",
       "      <td>21984.47061</td>\n",
       "    </tr>\n",
       "    <tr>\n",
       "      <th>4</th>\n",
       "      <td>32.0</td>\n",
       "      <td>1</td>\n",
       "      <td>28.880</td>\n",
       "      <td>0.0</td>\n",
       "      <td>0</td>\n",
       "      <td>northwest</td>\n",
       "      <td>3866.85520</td>\n",
       "    </tr>\n",
       "  </tbody>\n",
       "</table>\n",
       "</div>"
      ],
      "text/plain": [
       "    age  gender     bmi  children  medical     region      charges\n",
       "0  19.0       0  27.900       0.0        1  southwest  16884.92400\n",
       "1  18.0       1  33.770       1.0        0  southeast   1725.55230\n",
       "2  28.0       1  33.000       3.0        0  southeast   4449.46200\n",
       "3  33.0       1  22.705       0.0        0  northwest  21984.47061\n",
       "4  32.0       1  28.880       0.0        0  northwest   3866.85520"
      ]
     },
     "execution_count": 17,
     "metadata": {},
     "output_type": "execute_result"
    }
   ],
   "source": [
    "data.head()"
   ]
  },
  {
   "cell_type": "code",
   "execution_count": 18,
   "metadata": {
    "execution": {
     "iopub.execute_input": "2022-02-09T15:09:17.574733Z",
     "iopub.status.busy": "2022-02-09T15:09:17.574299Z",
     "iopub.status.idle": "2022-02-09T15:09:17.582701Z",
     "shell.execute_reply": "2022-02-09T15:09:17.581808Z",
     "shell.execute_reply.started": "2022-02-09T15:09:17.574686Z"
    }
   },
   "outputs": [
    {
     "data": {
      "text/plain": [
       "array(['southwest', 'southeast', 'northwest', 'northeast'], dtype=object)"
      ]
     },
     "execution_count": 18,
     "metadata": {},
     "output_type": "execute_result"
    }
   ],
   "source": [
    "data['region'].unique()"
   ]
  },
  {
   "cell_type": "code",
   "execution_count": 19,
   "metadata": {
    "execution": {
     "iopub.execute_input": "2022-02-09T15:09:17.585087Z",
     "iopub.status.busy": "2022-02-09T15:09:17.584331Z",
     "iopub.status.idle": "2022-02-09T15:09:17.603021Z",
     "shell.execute_reply": "2022-02-09T15:09:17.601907Z",
     "shell.execute_reply.started": "2022-02-09T15:09:17.585035Z"
    }
   },
   "outputs": [],
   "source": [
    "data['region']=data['region'].map({'southeast':2,'southwest':1,'northeast':4,'northwest':3})"
   ]
  },
  {
   "cell_type": "code",
   "execution_count": 20,
   "metadata": {
    "execution": {
     "iopub.execute_input": "2022-02-09T15:09:17.604665Z",
     "iopub.status.busy": "2022-02-09T15:09:17.604394Z",
     "iopub.status.idle": "2022-02-09T15:09:17.631444Z",
     "shell.execute_reply": "2022-02-09T15:09:17.630594Z",
     "shell.execute_reply.started": "2022-02-09T15:09:17.604635Z"
    }
   },
   "outputs": [
    {
     "data": {
      "text/html": [
       "<div>\n",
       "<style scoped>\n",
       "    .dataframe tbody tr th:only-of-type {\n",
       "        vertical-align: middle;\n",
       "    }\n",
       "\n",
       "    .dataframe tbody tr th {\n",
       "        vertical-align: top;\n",
       "    }\n",
       "\n",
       "    .dataframe thead th {\n",
       "        text-align: right;\n",
       "    }\n",
       "</style>\n",
       "<table border=\"1\" class=\"dataframe\">\n",
       "  <thead>\n",
       "    <tr style=\"text-align: right;\">\n",
       "      <th></th>\n",
       "      <th>age</th>\n",
       "      <th>gender</th>\n",
       "      <th>bmi</th>\n",
       "      <th>children</th>\n",
       "      <th>medical</th>\n",
       "      <th>region</th>\n",
       "      <th>charges</th>\n",
       "    </tr>\n",
       "  </thead>\n",
       "  <tbody>\n",
       "    <tr>\n",
       "      <th>0</th>\n",
       "      <td>19.0</td>\n",
       "      <td>0</td>\n",
       "      <td>27.900</td>\n",
       "      <td>0.0</td>\n",
       "      <td>1</td>\n",
       "      <td>1</td>\n",
       "      <td>16884.92400</td>\n",
       "    </tr>\n",
       "    <tr>\n",
       "      <th>1</th>\n",
       "      <td>18.0</td>\n",
       "      <td>1</td>\n",
       "      <td>33.770</td>\n",
       "      <td>1.0</td>\n",
       "      <td>0</td>\n",
       "      <td>2</td>\n",
       "      <td>1725.55230</td>\n",
       "    </tr>\n",
       "    <tr>\n",
       "      <th>2</th>\n",
       "      <td>28.0</td>\n",
       "      <td>1</td>\n",
       "      <td>33.000</td>\n",
       "      <td>3.0</td>\n",
       "      <td>0</td>\n",
       "      <td>2</td>\n",
       "      <td>4449.46200</td>\n",
       "    </tr>\n",
       "    <tr>\n",
       "      <th>3</th>\n",
       "      <td>33.0</td>\n",
       "      <td>1</td>\n",
       "      <td>22.705</td>\n",
       "      <td>0.0</td>\n",
       "      <td>0</td>\n",
       "      <td>3</td>\n",
       "      <td>21984.47061</td>\n",
       "    </tr>\n",
       "    <tr>\n",
       "      <th>4</th>\n",
       "      <td>32.0</td>\n",
       "      <td>1</td>\n",
       "      <td>28.880</td>\n",
       "      <td>0.0</td>\n",
       "      <td>0</td>\n",
       "      <td>3</td>\n",
       "      <td>3866.85520</td>\n",
       "    </tr>\n",
       "  </tbody>\n",
       "</table>\n",
       "</div>"
      ],
      "text/plain": [
       "    age  gender     bmi  children  medical  region      charges\n",
       "0  19.0       0  27.900       0.0        1       1  16884.92400\n",
       "1  18.0       1  33.770       1.0        0       2   1725.55230\n",
       "2  28.0       1  33.000       3.0        0       2   4449.46200\n",
       "3  33.0       1  22.705       0.0        0       3  21984.47061\n",
       "4  32.0       1  28.880       0.0        0       3   3866.85520"
      ]
     },
     "execution_count": 20,
     "metadata": {},
     "output_type": "execute_result"
    }
   ],
   "source": [
    "data.head()"
   ]
  },
  {
   "cell_type": "markdown",
   "metadata": {},
   "source": [
    "**Store Feature Matrix in X and Response(target)in vector Y**"
   ]
  },
  {
   "cell_type": "code",
   "execution_count": 21,
   "metadata": {
    "execution": {
     "iopub.execute_input": "2022-02-09T15:09:17.633762Z",
     "iopub.status.busy": "2022-02-09T15:09:17.633245Z",
     "iopub.status.idle": "2022-02-09T15:09:17.641280Z",
     "shell.execute_reply": "2022-02-09T15:09:17.640372Z",
     "shell.execute_reply.started": "2022-02-09T15:09:17.633718Z"
    }
   },
   "outputs": [
    {
     "data": {
      "text/plain": [
       "Index(['age', 'gender', 'bmi', 'children', 'medical', 'region', 'charges'], dtype='object')"
      ]
     },
     "execution_count": 21,
     "metadata": {},
     "output_type": "execute_result"
    }
   ],
   "source": [
    "data.columns"
   ]
  },
  {
   "cell_type": "code",
   "execution_count": 22,
   "metadata": {
    "execution": {
     "iopub.execute_input": "2022-02-09T15:09:17.643373Z",
     "iopub.status.busy": "2022-02-09T15:09:17.642886Z",
     "iopub.status.idle": "2022-02-09T15:09:17.659276Z",
     "shell.execute_reply": "2022-02-09T15:09:17.658249Z",
     "shell.execute_reply.started": "2022-02-09T15:09:17.643329Z"
    }
   },
   "outputs": [],
   "source": [
    "X= data.drop(['charges'],axis=1)"
   ]
  },
  {
   "cell_type": "code",
   "execution_count": 23,
   "metadata": {
    "execution": {
     "iopub.execute_input": "2022-02-09T15:09:17.661770Z",
     "iopub.status.busy": "2022-02-09T15:09:17.660927Z",
     "iopub.status.idle": "2022-02-09T15:09:17.681392Z",
     "shell.execute_reply": "2022-02-09T15:09:17.680801Z",
     "shell.execute_reply.started": "2022-02-09T15:09:17.661649Z"
    }
   },
   "outputs": [
    {
     "data": {
      "text/html": [
       "<div>\n",
       "<style scoped>\n",
       "    .dataframe tbody tr th:only-of-type {\n",
       "        vertical-align: middle;\n",
       "    }\n",
       "\n",
       "    .dataframe tbody tr th {\n",
       "        vertical-align: top;\n",
       "    }\n",
       "\n",
       "    .dataframe thead th {\n",
       "        text-align: right;\n",
       "    }\n",
       "</style>\n",
       "<table border=\"1\" class=\"dataframe\">\n",
       "  <thead>\n",
       "    <tr style=\"text-align: right;\">\n",
       "      <th></th>\n",
       "      <th>age</th>\n",
       "      <th>gender</th>\n",
       "      <th>bmi</th>\n",
       "      <th>children</th>\n",
       "      <th>medical</th>\n",
       "      <th>region</th>\n",
       "    </tr>\n",
       "  </thead>\n",
       "  <tbody>\n",
       "    <tr>\n",
       "      <th>0</th>\n",
       "      <td>19.0</td>\n",
       "      <td>0</td>\n",
       "      <td>27.900</td>\n",
       "      <td>0.0</td>\n",
       "      <td>1</td>\n",
       "      <td>1</td>\n",
       "    </tr>\n",
       "    <tr>\n",
       "      <th>1</th>\n",
       "      <td>18.0</td>\n",
       "      <td>1</td>\n",
       "      <td>33.770</td>\n",
       "      <td>1.0</td>\n",
       "      <td>0</td>\n",
       "      <td>2</td>\n",
       "    </tr>\n",
       "    <tr>\n",
       "      <th>2</th>\n",
       "      <td>28.0</td>\n",
       "      <td>1</td>\n",
       "      <td>33.000</td>\n",
       "      <td>3.0</td>\n",
       "      <td>0</td>\n",
       "      <td>2</td>\n",
       "    </tr>\n",
       "    <tr>\n",
       "      <th>3</th>\n",
       "      <td>33.0</td>\n",
       "      <td>1</td>\n",
       "      <td>22.705</td>\n",
       "      <td>0.0</td>\n",
       "      <td>0</td>\n",
       "      <td>3</td>\n",
       "    </tr>\n",
       "    <tr>\n",
       "      <th>4</th>\n",
       "      <td>32.0</td>\n",
       "      <td>1</td>\n",
       "      <td>28.880</td>\n",
       "      <td>0.0</td>\n",
       "      <td>0</td>\n",
       "      <td>3</td>\n",
       "    </tr>\n",
       "    <tr>\n",
       "      <th>...</th>\n",
       "      <td>...</td>\n",
       "      <td>...</td>\n",
       "      <td>...</td>\n",
       "      <td>...</td>\n",
       "      <td>...</td>\n",
       "      <td>...</td>\n",
       "    </tr>\n",
       "    <tr>\n",
       "      <th>1336</th>\n",
       "      <td>21.0</td>\n",
       "      <td>0</td>\n",
       "      <td>25.800</td>\n",
       "      <td>0.0</td>\n",
       "      <td>0</td>\n",
       "      <td>1</td>\n",
       "    </tr>\n",
       "    <tr>\n",
       "      <th>1337</th>\n",
       "      <td>61.0</td>\n",
       "      <td>0</td>\n",
       "      <td>29.070</td>\n",
       "      <td>0.0</td>\n",
       "      <td>1</td>\n",
       "      <td>3</td>\n",
       "    </tr>\n",
       "    <tr>\n",
       "      <th>1338</th>\n",
       "      <td>20.0</td>\n",
       "      <td>1</td>\n",
       "      <td>26.000</td>\n",
       "      <td>0.0</td>\n",
       "      <td>0</td>\n",
       "      <td>2</td>\n",
       "    </tr>\n",
       "    <tr>\n",
       "      <th>1339</th>\n",
       "      <td>50.0</td>\n",
       "      <td>0</td>\n",
       "      <td>50.000</td>\n",
       "      <td>5.0</td>\n",
       "      <td>1</td>\n",
       "      <td>4</td>\n",
       "    </tr>\n",
       "    <tr>\n",
       "      <th>1340</th>\n",
       "      <td>20.0</td>\n",
       "      <td>1</td>\n",
       "      <td>20.000</td>\n",
       "      <td>2.0</td>\n",
       "      <td>1</td>\n",
       "      <td>3</td>\n",
       "    </tr>\n",
       "  </tbody>\n",
       "</table>\n",
       "<p>1341 rows × 6 columns</p>\n",
       "</div>"
      ],
      "text/plain": [
       "       age  gender     bmi  children  medical  region\n",
       "0     19.0       0  27.900       0.0        1       1\n",
       "1     18.0       1  33.770       1.0        0       2\n",
       "2     28.0       1  33.000       3.0        0       2\n",
       "3     33.0       1  22.705       0.0        0       3\n",
       "4     32.0       1  28.880       0.0        0       3\n",
       "...    ...     ...     ...       ...      ...     ...\n",
       "1336  21.0       0  25.800       0.0        0       1\n",
       "1337  61.0       0  29.070       0.0        1       3\n",
       "1338  20.0       1  26.000       0.0        0       2\n",
       "1339  50.0       0  50.000       5.0        1       4\n",
       "1340  20.0       1  20.000       2.0        1       3\n",
       "\n",
       "[1341 rows x 6 columns]"
      ]
     },
     "execution_count": 23,
     "metadata": {},
     "output_type": "execute_result"
    }
   ],
   "source": [
    "X"
   ]
  },
  {
   "cell_type": "code",
   "execution_count": 24,
   "metadata": {
    "execution": {
     "iopub.execute_input": "2022-02-09T15:09:17.682859Z",
     "iopub.status.busy": "2022-02-09T15:09:17.682501Z",
     "iopub.status.idle": "2022-02-09T15:09:17.686989Z",
     "shell.execute_reply": "2022-02-09T15:09:17.686189Z",
     "shell.execute_reply.started": "2022-02-09T15:09:17.682822Z"
    }
   },
   "outputs": [],
   "source": [
    "Y=data['charges']\n"
   ]
  },
  {
   "cell_type": "code",
   "execution_count": 25,
   "metadata": {
    "execution": {
     "iopub.execute_input": "2022-02-09T15:09:17.688482Z",
     "iopub.status.busy": "2022-02-09T15:09:17.688122Z",
     "iopub.status.idle": "2022-02-09T15:09:17.707308Z",
     "shell.execute_reply": "2022-02-09T15:09:17.706701Z",
     "shell.execute_reply.started": "2022-02-09T15:09:17.688441Z"
    }
   },
   "outputs": [
    {
     "data": {
      "text/plain": [
       "0        16884.92400\n",
       "1         1725.55230\n",
       "2         4449.46200\n",
       "3        21984.47061\n",
       "4         3866.85520\n",
       "            ...     \n",
       "1336      2007.94500\n",
       "1337     29141.36030\n",
       "1338    100000.00000\n",
       "1339    500000.00000\n",
       "1340     10000.00000\n",
       "Name: charges, Length: 1341, dtype: float64"
      ]
     },
     "execution_count": 25,
     "metadata": {},
     "output_type": "execute_result"
    }
   ],
   "source": [
    "Y"
   ]
  },
  {
   "cell_type": "markdown",
   "metadata": {},
   "source": [
    "**Train/test split**\n",
    "\n",
    "*  Split data into two part : a training set and a testing set \n",
    "*  Train the model on training set\n",
    "*  Test the model on testing set"
   ]
  },
  {
   "cell_type": "code",
   "execution_count": 26,
   "metadata": {
    "execution": {
     "iopub.execute_input": "2022-02-09T15:09:17.709285Z",
     "iopub.status.busy": "2022-02-09T15:09:17.708916Z",
     "iopub.status.idle": "2022-02-09T15:09:17.717385Z",
     "shell.execute_reply": "2022-02-09T15:09:17.716490Z",
     "shell.execute_reply.started": "2022-02-09T15:09:17.709254Z"
    }
   },
   "outputs": [],
   "source": [
    "from sklearn.model_selection import train_test_split"
   ]
  },
  {
   "cell_type": "code",
   "execution_count": 27,
   "metadata": {
    "execution": {
     "iopub.execute_input": "2022-02-09T15:09:17.718947Z",
     "iopub.status.busy": "2022-02-09T15:09:17.718554Z",
     "iopub.status.idle": "2022-02-09T15:09:17.736047Z",
     "shell.execute_reply": "2022-02-09T15:09:17.735293Z",
     "shell.execute_reply.started": "2022-02-09T15:09:17.718915Z"
    }
   },
   "outputs": [],
   "source": [
    "X_train,X_test,Y_train,Y_test=train_test_split(X,Y,test_size=0.2,random_state=42)"
   ]
  },
  {
   "cell_type": "code",
   "execution_count": 28,
   "metadata": {
    "execution": {
     "iopub.execute_input": "2022-02-09T15:09:17.737942Z",
     "iopub.status.busy": "2022-02-09T15:09:17.737229Z",
     "iopub.status.idle": "2022-02-09T15:09:17.749303Z",
     "shell.execute_reply": "2022-02-09T15:09:17.748608Z",
     "shell.execute_reply.started": "2022-02-09T15:09:17.737905Z"
    }
   },
   "outputs": [
    {
     "data": {
      "text/plain": [
       "810      9414.92000\n",
       "1288    38344.56600\n",
       "591      8428.06930\n",
       "973      1759.33800\n",
       "889     11945.13270\n",
       "           ...     \n",
       "1095     4561.18850\n",
       "1130     8582.30230\n",
       "1294    11931.12525\n",
       "860     46113.51100\n",
       "1126    10214.63600\n",
       "Name: charges, Length: 1072, dtype: float64"
      ]
     },
     "execution_count": 28,
     "metadata": {},
     "output_type": "execute_result"
    }
   ],
   "source": [
    "Y_train"
   ]
  },
  {
   "cell_type": "markdown",
   "metadata": {},
   "source": [
    "**Import the models**"
   ]
  },
  {
   "cell_type": "code",
   "execution_count": 29,
   "metadata": {
    "execution": {
     "iopub.execute_input": "2022-02-09T15:09:17.751160Z",
     "iopub.status.busy": "2022-02-09T15:09:17.750720Z",
     "iopub.status.idle": "2022-02-09T15:09:17.766914Z",
     "shell.execute_reply": "2022-02-09T15:09:17.765827Z",
     "shell.execute_reply.started": "2022-02-09T15:09:17.751128Z"
    }
   },
   "outputs": [],
   "source": [
    "from sklearn.linear_model import LinearRegression\n",
    "from sklearn.svm import SVR\n",
    "from sklearn.ensemble import RandomForestRegressor\n",
    "from sklearn.ensemble import GradientBoostingRegressor"
   ]
  },
  {
   "cell_type": "markdown",
   "metadata": {},
   "source": [
    "**Model Training**"
   ]
  },
  {
   "cell_type": "code",
   "execution_count": 30,
   "metadata": {
    "execution": {
     "iopub.execute_input": "2022-02-09T15:09:17.768764Z",
     "iopub.status.busy": "2022-02-09T15:09:17.768245Z",
     "iopub.status.idle": "2022-02-09T15:09:18.344549Z",
     "shell.execute_reply": "2022-02-09T15:09:18.343788Z",
     "shell.execute_reply.started": "2022-02-09T15:09:17.768725Z"
    }
   },
   "outputs": [
    {
     "data": {
      "text/plain": [
       "GradientBoostingRegressor()"
      ]
     },
     "execution_count": 30,
     "metadata": {},
     "output_type": "execute_result"
    }
   ],
   "source": [
    "lr = LinearRegression()\n",
    "lr.fit(X_train,Y_train)\n",
    "svm = SVR()\n",
    "svm.fit(X_train,Y_train)\n",
    "rf = RandomForestRegressor()\n",
    "rf.fit(X_train,Y_train)\n",
    "gr = GradientBoostingRegressor()\n",
    "gr.fit(X_train,Y_train)\n"
   ]
  },
  {
   "cell_type": "markdown",
   "metadata": {},
   "source": [
    "**Prediction on test data**"
   ]
  },
  {
   "cell_type": "code",
   "execution_count": 31,
   "metadata": {
    "execution": {
     "iopub.execute_input": "2022-02-09T15:09:18.346421Z",
     "iopub.status.busy": "2022-02-09T15:09:18.345701Z",
     "iopub.status.idle": "2022-02-09T15:09:18.394315Z",
     "shell.execute_reply": "2022-02-09T15:09:18.392676Z",
     "shell.execute_reply.started": "2022-02-09T15:09:18.346382Z"
    }
   },
   "outputs": [],
   "source": [
    "Y_pred1 = lr.predict(X_test)\n",
    "Y_pred2 = svm.predict(X_test)\n",
    "Y_pred3 = rf.predict(X_test)\n",
    "Y_pred4 = gr.predict(X_test)\n",
    "\n",
    "df1 = pd.DataFrame({'Actual':Y_test,'Lr':Y_pred1,\n",
    "                  'svm':Y_pred2,'rf':Y_pred3,'gr':Y_pred4})"
   ]
  },
  {
   "cell_type": "code",
   "execution_count": 32,
   "metadata": {
    "execution": {
     "iopub.execute_input": "2022-02-09T15:09:18.396505Z",
     "iopub.status.busy": "2022-02-09T15:09:18.396177Z",
     "iopub.status.idle": "2022-02-09T15:09:18.416271Z",
     "shell.execute_reply": "2022-02-09T15:09:18.415326Z",
     "shell.execute_reply.started": "2022-02-09T15:09:18.396470Z"
    }
   },
   "outputs": [
    {
     "data": {
      "text/html": [
       "<div>\n",
       "<style scoped>\n",
       "    .dataframe tbody tr th:only-of-type {\n",
       "        vertical-align: middle;\n",
       "    }\n",
       "\n",
       "    .dataframe tbody tr th {\n",
       "        vertical-align: top;\n",
       "    }\n",
       "\n",
       "    .dataframe thead th {\n",
       "        text-align: right;\n",
       "    }\n",
       "</style>\n",
       "<table border=\"1\" class=\"dataframe\">\n",
       "  <thead>\n",
       "    <tr style=\"text-align: right;\">\n",
       "      <th></th>\n",
       "      <th>Actual</th>\n",
       "      <th>Lr</th>\n",
       "      <th>svm</th>\n",
       "      <th>rf</th>\n",
       "      <th>gr</th>\n",
       "    </tr>\n",
       "  </thead>\n",
       "  <tbody>\n",
       "    <tr>\n",
       "      <th>802</th>\n",
       "      <td>2103.08000</td>\n",
       "      <td>-2930.226744</td>\n",
       "      <td>9293.774208</td>\n",
       "      <td>2531.271861</td>\n",
       "      <td>3270.508239</td>\n",
       "    </tr>\n",
       "    <tr>\n",
       "      <th>548</th>\n",
       "      <td>3213.62205</td>\n",
       "      <td>4272.064761</td>\n",
       "      <td>9306.925518</td>\n",
       "      <td>3906.259392</td>\n",
       "      <td>4488.671752</td>\n",
       "    </tr>\n",
       "    <tr>\n",
       "      <th>570</th>\n",
       "      <td>3761.29200</td>\n",
       "      <td>2891.341447</td>\n",
       "      <td>9336.136109</td>\n",
       "      <td>4109.635677</td>\n",
       "      <td>4605.140598</td>\n",
       "    </tr>\n",
       "    <tr>\n",
       "      <th>430</th>\n",
       "      <td>23082.95533</td>\n",
       "      <td>1186.571669</td>\n",
       "      <td>9290.077336</td>\n",
       "      <td>1276.705051</td>\n",
       "      <td>1805.737787</td>\n",
       "    </tr>\n",
       "    <tr>\n",
       "      <th>259</th>\n",
       "      <td>33750.29180</td>\n",
       "      <td>27501.048475</td>\n",
       "      <td>9289.373427</td>\n",
       "      <td>34840.111789</td>\n",
       "      <td>33916.440812</td>\n",
       "    </tr>\n",
       "    <tr>\n",
       "      <th>...</th>\n",
       "      <td>...</td>\n",
       "      <td>...</td>\n",
       "      <td>...</td>\n",
       "      <td>...</td>\n",
       "      <td>...</td>\n",
       "    </tr>\n",
       "    <tr>\n",
       "      <th>808</th>\n",
       "      <td>1131.50660</td>\n",
       "      <td>307.073044</td>\n",
       "      <td>9285.932081</td>\n",
       "      <td>2437.897334</td>\n",
       "      <td>4037.125840</td>\n",
       "    </tr>\n",
       "    <tr>\n",
       "      <th>680</th>\n",
       "      <td>2585.26900</td>\n",
       "      <td>-4731.372858</td>\n",
       "      <td>9297.970476</td>\n",
       "      <td>4064.375877</td>\n",
       "      <td>2647.706655</td>\n",
       "    </tr>\n",
       "    <tr>\n",
       "      <th>365</th>\n",
       "      <td>9778.34720</td>\n",
       "      <td>13035.422848</td>\n",
       "      <td>9456.472877</td>\n",
       "      <td>10532.422744</td>\n",
       "      <td>11658.188562</td>\n",
       "    </tr>\n",
       "    <tr>\n",
       "      <th>842</th>\n",
       "      <td>36021.01120</td>\n",
       "      <td>31986.459917</td>\n",
       "      <td>9301.783830</td>\n",
       "      <td>35877.927722</td>\n",
       "      <td>36577.607444</td>\n",
       "    </tr>\n",
       "    <tr>\n",
       "      <th>764</th>\n",
       "      <td>9095.06825</td>\n",
       "      <td>10379.179993</td>\n",
       "      <td>9425.400604</td>\n",
       "      <td>10567.834407</td>\n",
       "      <td>10558.486779</td>\n",
       "    </tr>\n",
       "  </tbody>\n",
       "</table>\n",
       "<p>269 rows × 5 columns</p>\n",
       "</div>"
      ],
      "text/plain": [
       "          Actual            Lr          svm            rf            gr\n",
       "802   2103.08000  -2930.226744  9293.774208   2531.271861   3270.508239\n",
       "548   3213.62205   4272.064761  9306.925518   3906.259392   4488.671752\n",
       "570   3761.29200   2891.341447  9336.136109   4109.635677   4605.140598\n",
       "430  23082.95533   1186.571669  9290.077336   1276.705051   1805.737787\n",
       "259  33750.29180  27501.048475  9289.373427  34840.111789  33916.440812\n",
       "..           ...           ...          ...           ...           ...\n",
       "808   1131.50660    307.073044  9285.932081   2437.897334   4037.125840\n",
       "680   2585.26900  -4731.372858  9297.970476   4064.375877   2647.706655\n",
       "365   9778.34720  13035.422848  9456.472877  10532.422744  11658.188562\n",
       "842  36021.01120  31986.459917  9301.783830  35877.927722  36577.607444\n",
       "764   9095.06825  10379.179993  9425.400604  10567.834407  10558.486779\n",
       "\n",
       "[269 rows x 5 columns]"
      ]
     },
     "execution_count": 32,
     "metadata": {},
     "output_type": "execute_result"
    }
   ],
   "source": [
    "df1"
   ]
  },
  {
   "cell_type": "markdown",
   "metadata": {},
   "source": [
    "**Compare Performance Visually**"
   ]
  },
  {
   "cell_type": "code",
   "execution_count": 33,
   "metadata": {
    "execution": {
     "iopub.execute_input": "2022-02-09T15:09:18.418418Z",
     "iopub.status.busy": "2022-02-09T15:09:18.417986Z",
     "iopub.status.idle": "2022-02-09T15:09:18.434114Z",
     "shell.execute_reply": "2022-02-09T15:09:18.433392Z",
     "shell.execute_reply.started": "2022-02-09T15:09:18.418387Z"
    }
   },
   "outputs": [],
   "source": [
    "import matplotlib.pyplot as plt\n"
   ]
  },
  {
   "cell_type": "code",
   "execution_count": 34,
   "metadata": {
    "execution": {
     "iopub.execute_input": "2022-02-09T15:09:18.436145Z",
     "iopub.status.busy": "2022-02-09T15:09:18.435607Z",
     "iopub.status.idle": "2022-02-09T15:09:19.136712Z",
     "shell.execute_reply": "2022-02-09T15:09:19.135489Z",
     "shell.execute_reply.started": "2022-02-09T15:09:18.436089Z"
    }
   },
   "outputs": [
    {
     "data": {
      "image/png": "[encoded data removed]",
      "text/plain": [
       "<Figure size 432x288 with 4 Axes>"
      ]
     },
     "metadata": {
      "needs_background": "light"
     },
     "output_type": "display_data"
    }
   ],
   "source": [
    "plt.subplot(221)\n",
    "plt.plot(df1['Actual'].iloc[0:11],label='Actual')\n",
    "plt.plot(df1['Lr'].iloc[0:11],label='Lr')\n",
    "plt.legend()\n",
    "\n",
    "plt.subplot(222)\n",
    "plt.plot(df1['Actual'].iloc[0:11],label='Actual')\n",
    "plt.plot(df1['svm'].iloc[0:11],label='svr')\n",
    "plt.legend()\n",
    "\n",
    "plt.subplot(223)\n",
    "plt.plot(df1['Actual'].iloc[0:11],label='Actual')\n",
    "plt.plot(df1['rf'].iloc[0:11],label='rf')\n",
    "plt.legend()\n",
    "\n",
    "plt.subplot(224)\n",
    "plt.plot(df1['Actual'].iloc[0:11],label='Actual')\n",
    "plt.plot(df1['gr'].iloc[0:11],label='gr')\n",
    "plt.legend()\n",
    "\n",
    "plt.tight_layout()\n",
    "\n"
   ]
  },
  {
   "cell_type": "markdown",
   "metadata": {},
   "source": [
    "**Evaluating the Algorithm**"
   ]
  },
  {
   "cell_type": "code",
   "execution_count": 35,
   "metadata": {
    "execution": {
     "iopub.execute_input": "2022-02-09T15:09:19.138277Z",
     "iopub.status.busy": "2022-02-09T15:09:19.138016Z",
     "iopub.status.idle": "2022-02-09T15:09:19.142713Z",
     "shell.execute_reply": "2022-02-09T15:09:19.141871Z",
     "shell.execute_reply.started": "2022-02-09T15:09:19.138245Z"
    }
   },
   "outputs": [],
   "source": [
    "from sklearn import metrics"
   ]
  },
  {
   "cell_type": "code",
   "execution_count": 36,
   "metadata": {
    "execution": {
     "iopub.execute_input": "2022-02-09T15:09:19.144251Z",
     "iopub.status.busy": "2022-02-09T15:09:19.143997Z",
     "iopub.status.idle": "2022-02-09T15:09:19.163216Z",
     "shell.execute_reply": "2022-02-09T15:09:19.162269Z",
     "shell.execute_reply.started": "2022-02-09T15:09:19.144211Z"
    }
   },
   "outputs": [],
   "source": [
    "score1 = metrics.r2_score(Y_test,Y_pred1)\n",
    "score2 = metrics.r2_score(Y_test,Y_pred2)\n",
    "score3 = metrics.r2_score(Y_test,Y_pred3)\n",
    "score4 = metrics.r2_score(Y_test,Y_pred4)"
   ]
  },
  {
   "cell_type": "code",
   "execution_count": 37,
   "metadata": {
    "execution": {
     "iopub.execute_input": "2022-02-09T15:09:19.165075Z",
     "iopub.status.busy": "2022-02-09T15:09:19.164816Z",
     "iopub.status.idle": "2022-02-09T15:09:19.178347Z",
     "shell.execute_reply": "2022-02-09T15:09:19.177627Z",
     "shell.execute_reply.started": "2022-02-09T15:09:19.165046Z"
    }
   },
   "outputs": [
    {
     "name": "stdout",
     "output_type": "stream",
     "text": [
      "0.780205303777974 -0.11779619432391875 -0.22980830871577296 0.885859929373044\n"
     ]
    }
   ],
   "source": [
    "print(score1,score2,score3,score4)"
   ]
  },
  {
   "cell_type": "code",
   "execution_count": 38,
   "metadata": {
    "execution": {
     "iopub.execute_input": "2022-02-09T15:09:19.179917Z",
     "iopub.status.busy": "2022-02-09T15:09:19.179646Z",
     "iopub.status.idle": "2022-02-09T15:09:19.197852Z",
     "shell.execute_reply": "2022-02-09T15:09:19.196958Z",
     "shell.execute_reply.started": "2022-02-09T15:09:19.179872Z"
    }
   },
   "outputs": [],
   "source": [
    "s1 = metrics.mean_absolute_error(Y_test,Y_pred1)\n",
    "s2 = metrics.mean_absolute_error(Y_test,Y_pred2)\n",
    "s3 = metrics.mean_absolute_error(Y_test,Y_pred3)\n",
    "s4 = metrics.mean_absolute_error(Y_test,Y_pred4)"
   ]
  },
  {
   "cell_type": "code",
   "execution_count": 39,
   "metadata": {
    "execution": {
     "iopub.execute_input": "2022-02-09T15:09:19.199973Z",
     "iopub.status.busy": "2022-02-09T15:09:19.199116Z",
     "iopub.status.idle": "2022-02-09T15:09:19.214336Z",
     "shell.execute_reply": "2022-02-09T15:09:19.213518Z",
     "shell.execute_reply.started": "2022-02-09T15:09:19.199928Z"
    }
   },
   "outputs": [
    {
     "name": "stdout",
     "output_type": "stream",
     "text": [
      "4778.936192323633 9438.237886208588 3868.3986215286545 2610.984116918204\n"
     ]
    }
   ],
   "source": [
    "print(s1,s2,s3,s4)"
   ]
  },
  {
   "cell_type": "markdown",
   "metadata": {},
   "source": [
    "**Predict Charges for New Customer**"
   ]
  },
  {
   "cell_type": "code",
   "execution_count": 40,
   "metadata": {
    "execution": {
     "iopub.execute_input": "2022-02-09T15:09:19.216533Z",
     "iopub.status.busy": "2022-02-09T15:09:19.215454Z",
     "iopub.status.idle": "2022-02-09T15:09:19.240181Z",
     "shell.execute_reply": "2022-02-09T15:09:19.239161Z",
     "shell.execute_reply.started": "2022-02-09T15:09:19.216486Z"
    }
   },
   "outputs": [
    {
     "data": {
      "text/html": [
       "<div>\n",
       "<style scoped>\n",
       "    .dataframe tbody tr th:only-of-type {\n",
       "        vertical-align: middle;\n",
       "    }\n",
       "\n",
       "    .dataframe tbody tr th {\n",
       "        vertical-align: top;\n",
       "    }\n",
       "\n",
       "    .dataframe thead th {\n",
       "        text-align: right;\n",
       "    }\n",
       "</style>\n",
       "<table border=\"1\" class=\"dataframe\">\n",
       "  <thead>\n",
       "    <tr style=\"text-align: right;\">\n",
       "      <th></th>\n",
       "      <th>age</th>\n",
       "      <th>sex</th>\n",
       "      <th>bmi</th>\n",
       "      <th>children</th>\n",
       "      <th>smoker</th>\n",
       "      <th>region</th>\n",
       "    </tr>\n",
       "  </thead>\n",
       "  <tbody>\n",
       "    <tr>\n",
       "      <th>0</th>\n",
       "      <td>40</td>\n",
       "      <td>1</td>\n",
       "      <td>40.3</td>\n",
       "      <td>4</td>\n",
       "      <td>1</td>\n",
       "      <td>2</td>\n",
       "    </tr>\n",
       "  </tbody>\n",
       "</table>\n",
       "</div>"
      ],
      "text/plain": [
       "   age  sex   bmi  children  smoker  region\n",
       "0   40    1  40.3         4       1       2"
      ]
     },
     "execution_count": 40,
     "metadata": {},
     "output_type": "execute_result"
    }
   ],
   "source": [
    "data = {'age':40,'sex':1,'bmi':40.30,'children':4,'smoker':1,'region':2}\n",
    "df = pd.DataFrame(data,index=[0])\n",
    "df"
   ]
  },
  {
   "cell_type": "code",
   "execution_count": 41,
   "metadata": {
    "execution": {
     "iopub.execute_input": "2022-02-09T15:09:19.241791Z",
     "iopub.status.busy": "2022-02-09T15:09:19.241533Z",
     "iopub.status.idle": "2022-02-09T15:09:19.249715Z",
     "shell.execute_reply": "2022-02-09T15:09:19.249022Z",
     "shell.execute_reply.started": "2022-02-09T15:09:19.241762Z"
    }
   },
   "outputs": [
    {
     "name": "stdout",
     "output_type": "stream",
     "text": [
      "[41889.75862262]\n"
     ]
    }
   ],
   "source": [
    "new_pred = gr.predict(df)\n",
    "print(new_pred)"
   ]
  },
  {
   "cell_type": "markdown",
   "metadata": {},
   "source": [
    "**Save Model using Joblib**"
   ]
  },
  {
   "cell_type": "code",
   "execution_count": 42,
   "metadata": {
    "execution": {
     "iopub.execute_input": "2022-02-09T15:09:19.251436Z",
     "iopub.status.busy": "2022-02-09T15:09:19.250882Z",
     "iopub.status.idle": "2022-02-09T15:09:19.387482Z",
     "shell.execute_reply": "2022-02-09T15:09:19.386794Z",
     "shell.execute_reply.started": "2022-02-09T15:09:19.251404Z"
    }
   },
   "outputs": [
    {
     "data": {
      "text/plain": [
       "GradientBoostingRegressor()"
      ]
     },
     "execution_count": 42,
     "metadata": {},
     "output_type": "execute_result"
    }
   ],
   "source": [
    "gr = GradientBoostingRegressor()\n",
    "gr.fit(X,Y)"
   ]
  },
  {
   "cell_type": "code",
   "execution_count": 43,
   "metadata": {
    "execution": {
     "iopub.execute_input": "2022-02-09T15:09:19.392383Z",
     "iopub.status.busy": "2022-02-09T15:09:19.391958Z",
     "iopub.status.idle": "2022-02-09T15:09:19.395842Z",
     "shell.execute_reply": "2022-02-09T15:09:19.394988Z",
     "shell.execute_reply.started": "2022-02-09T15:09:19.392351Z"
    }
   },
   "outputs": [],
   "source": [
    "import joblib"
   ]
  },
  {
   "cell_type": "code",
   "execution_count": 44,
   "metadata": {
    "execution": {
     "iopub.execute_input": "2022-02-09T15:09:19.397347Z",
     "iopub.status.busy": "2022-02-09T15:09:19.397055Z",
     "iopub.status.idle": "2022-02-09T15:09:19.422927Z",
     "shell.execute_reply": "2022-02-09T15:09:19.421995Z",
     "shell.execute_reply.started": "2022-02-09T15:09:19.397303Z"
    }
   },
   "outputs": [
    {
     "data": {
      "text/plain": [
       "['model_joblib_gr']"
      ]
     },
     "execution_count": 44,
     "metadata": {},
     "output_type": "execute_result"
    }
   ],
   "source": [
    "joblib.dump(gr,'model_joblib_gr')"
   ]
  },
  {
   "cell_type": "code",
   "execution_count": 45,
   "metadata": {
    "execution": {
     "iopub.execute_input": "2022-02-09T15:09:19.425011Z",
     "iopub.status.busy": "2022-02-09T15:09:19.424290Z",
     "iopub.status.idle": "2022-02-09T15:09:19.439449Z",
     "shell.execute_reply": "2022-02-09T15:09:19.438358Z",
     "shell.execute_reply.started": "2022-02-09T15:09:19.424974Z"
    }
   },
   "outputs": [],
   "source": [
    "model = joblib.load('model_joblib_gr')"
   ]
  },
  {
   "cell_type": "code",
   "execution_count": 46,
   "metadata": {
    "execution": {
     "iopub.execute_input": "2022-02-09T15:09:19.441013Z",
     "iopub.status.busy": "2022-02-09T15:09:19.440775Z",
     "iopub.status.idle": "2022-02-09T15:09:19.455077Z",
     "shell.execute_reply": "2022-02-09T15:09:19.454126Z",
     "shell.execute_reply.started": "2022-02-09T15:09:19.440984Z"
    }
   },
   "outputs": [
    {
     "data": {
      "text/plain": [
       "array([41440.84895275])"
      ]
     },
     "execution_count": 46,
     "metadata": {},
     "output_type": "execute_result"
    }
   ],
   "source": [
    "model.predict(df)"
   ]
  },
  {
   "cell_type": "code",
   "execution_count": null,
   "metadata": {},
   "outputs": [],
   "source": []
  },
  {
   "cell_type": "code",
   "execution_count": null,
   "metadata": {},
   "outputs": [],
   "source": []
  },
  {
   "cell_type": "code",
   "execution_count": null,
   "metadata": {},
   "outputs": [],
   "source": []
  }
 ],
 "metadata": {
  "kernelspec": {
   "display_name": "Python 3 (ipykernel)",
   "language": "python",
   "name": "python3"
  },
  "language_info": {
   "codemirror_mode": {
    "name": "ipython",
    "version": 3
   },
   "file_extension": ".py",
   "mimetype": "text/x-python",
   "name": "python",
   "nbconvert_exporter": "python",
   "pygments_lexer": "ipython3",
   "version": "3.9.7"
  }
 },
 "nbformat": 4,
 "nbformat_minor": 4
}
