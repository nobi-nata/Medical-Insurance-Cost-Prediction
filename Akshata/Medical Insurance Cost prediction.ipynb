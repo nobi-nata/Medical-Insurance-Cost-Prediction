{
 "cells": [
  {
   "cell_type": "code",
   "execution_count": 1,
   "id": "6f6b95a5",
   "metadata": {},
   "outputs": [],
   "source": [
    "# Importing required dependencies\n",
    "import numpy as np\n",
    "import pandas as pd\n",
    "import matplotlib.pyplot as plt\n",
    "import seaborn as sns\n",
    "from sklearn.model_selection import train_test_split\n",
    "from sklearn.linear_model import LinearRegression\n",
    "from sklearn import metrics"
   ]
  },
  {
   "cell_type": "code",
   "execution_count": 2,
   "id": "0a9db8a3",
   "metadata": {},
   "outputs": [
    {
     "name": "stdout",
     "output_type": "stream",
     "text": [
      "       age  gender     bmi  children medical     region       charges\n",
      "0     19.0  female  27.900       0.0     yes  southwest   16884.92400\n",
      "1     18.0    male  33.770       1.0      no  southeast    1725.55230\n",
      "2     28.0    male  33.000       3.0      no  southeast    4449.46200\n",
      "3     33.0    male  22.705       0.0      no  northwest   21984.47061\n",
      "4     32.0    male  28.880       0.0      no  northwest    3866.85520\n",
      "...    ...     ...     ...       ...     ...        ...           ...\n",
      "1335  18.0  female  36.850       0.0      no  southeast    1629.83350\n",
      "1336  21.0  female  25.800       0.0      no  southwest    2007.94500\n",
      "1337  61.0  female  29.070       0.0     yes  northwest   29141.36030\n",
      "1338  20.0    male  26.000       0.0      no  southeast  100000.00000\n",
      "1339  50.0  female  50.000       5.0     yes  northeast  500000.00000\n",
      "\n",
      "[1340 rows x 7 columns]\n"
     ]
    }
   ],
   "source": [
    "## Data collection and analysis\n",
    "#  Loading the dataframe from csv file to pandas dataframe\n",
    "insurance_dataset = pd.read_csv(\"C:/Users/Laxmikant/BTech/IBM/insurance.csv\")\n",
    "print(insurance_dataset)"
   ]
  },
  {
   "cell_type": "code",
   "execution_count": 3,
   "id": "17470d83",
   "metadata": {},
   "outputs": [
    {
     "data": {
      "text/html": [
       "<div>\n",
       "<style scoped>\n",
       "    .dataframe tbody tr th:only-of-type {\n",
       "        vertical-align: middle;\n",
       "    }\n",
       "\n",
       "    .dataframe tbody tr th {\n",
       "        vertical-align: top;\n",
       "    }\n",
       "\n",
       "    .dataframe thead th {\n",
       "        text-align: right;\n",
       "    }\n",
       "</style>\n",
       "<table border=\"1\" class=\"dataframe\">\n",
       "  <thead>\n",
       "    <tr style=\"text-align: right;\">\n",
       "      <th></th>\n",
       "      <th>age</th>\n",
       "      <th>gender</th>\n",
       "      <th>bmi</th>\n",
       "      <th>children</th>\n",
       "      <th>medical</th>\n",
       "      <th>region</th>\n",
       "      <th>charges</th>\n",
       "    </tr>\n",
       "  </thead>\n",
       "  <tbody>\n",
       "    <tr>\n",
       "      <th>0</th>\n",
       "      <td>19.0</td>\n",
       "      <td>female</td>\n",
       "      <td>27.900</td>\n",
       "      <td>0.0</td>\n",
       "      <td>yes</td>\n",
       "      <td>southwest</td>\n",
       "      <td>16884.92400</td>\n",
       "    </tr>\n",
       "    <tr>\n",
       "      <th>1</th>\n",
       "      <td>18.0</td>\n",
       "      <td>male</td>\n",
       "      <td>33.770</td>\n",
       "      <td>1.0</td>\n",
       "      <td>no</td>\n",
       "      <td>southeast</td>\n",
       "      <td>1725.55230</td>\n",
       "    </tr>\n",
       "    <tr>\n",
       "      <th>2</th>\n",
       "      <td>28.0</td>\n",
       "      <td>male</td>\n",
       "      <td>33.000</td>\n",
       "      <td>3.0</td>\n",
       "      <td>no</td>\n",
       "      <td>southeast</td>\n",
       "      <td>4449.46200</td>\n",
       "    </tr>\n",
       "    <tr>\n",
       "      <th>3</th>\n",
       "      <td>33.0</td>\n",
       "      <td>male</td>\n",
       "      <td>22.705</td>\n",
       "      <td>0.0</td>\n",
       "      <td>no</td>\n",
       "      <td>northwest</td>\n",
       "      <td>21984.47061</td>\n",
       "    </tr>\n",
       "    <tr>\n",
       "      <th>4</th>\n",
       "      <td>32.0</td>\n",
       "      <td>male</td>\n",
       "      <td>28.880</td>\n",
       "      <td>0.0</td>\n",
       "      <td>no</td>\n",
       "      <td>northwest</td>\n",
       "      <td>3866.85520</td>\n",
       "    </tr>\n",
       "  </tbody>\n",
       "</table>\n",
       "</div>"
      ],
      "text/plain": [
       "    age  gender     bmi  children medical     region      charges\n",
       "0  19.0  female  27.900       0.0     yes  southwest  16884.92400\n",
       "1  18.0    male  33.770       1.0      no  southeast   1725.55230\n",
       "2  28.0    male  33.000       3.0      no  southeast   4449.46200\n",
       "3  33.0    male  22.705       0.0      no  northwest  21984.47061\n",
       "4  32.0    male  28.880       0.0      no  northwest   3866.85520"
      ]
     },
     "execution_count": 3,
     "metadata": {},
     "output_type": "execute_result"
    }
   ],
   "source": [
    "insurance_dataset.head()"
   ]
  },
  {
   "cell_type": "code",
   "execution_count": 4,
   "id": "a6fe62c3",
   "metadata": {},
   "outputs": [
    {
     "data": {
      "text/plain": [
       "(1340, 7)"
      ]
     },
     "execution_count": 4,
     "metadata": {},
     "output_type": "execute_result"
    }
   ],
   "source": [
    "## NO. of. rows and column\n",
    "insurance_dataset.shape"
   ]
  },
  {
   "cell_type": "code",
   "execution_count": 5,
   "id": "ade5a8a1",
   "metadata": {},
   "outputs": [
    {
     "name": "stdout",
     "output_type": "stream",
     "text": [
      "<class 'pandas.core.frame.DataFrame'>\n",
      "RangeIndex: 1340 entries, 0 to 1339\n",
      "Data columns (total 7 columns):\n",
      " #   Column    Non-Null Count  Dtype  \n",
      "---  ------    --------------  -----  \n",
      " 0   age       1340 non-null   float64\n",
      " 1   gender    1340 non-null   object \n",
      " 2   bmi       1340 non-null   float64\n",
      " 3   children  1340 non-null   float64\n",
      " 4   medical   1340 non-null   object \n",
      " 5   region    1340 non-null   object \n",
      " 6   charges   1340 non-null   float64\n",
      "dtypes: float64(4), object(3)\n",
      "memory usage: 73.4+ KB\n"
     ]
    }
   ],
   "source": [
    "# getting some information about the dataset\n",
    "insurance_dataset.info()"
   ]
  },
  {
   "cell_type": "code",
   "execution_count": 6,
   "id": "87e6de4c",
   "metadata": {},
   "outputs": [
    {
     "data": {
      "text/plain": [
       "age         0\n",
       "gender      0\n",
       "bmi         0\n",
       "children    0\n",
       "medical     0\n",
       "region      0\n",
       "charges     0\n",
       "dtype: int64"
      ]
     },
     "execution_count": 6,
     "metadata": {},
     "output_type": "execute_result"
    }
   ],
   "source": [
    "\"\"\"\n",
    "Categorical features :\n",
    "- Sex\n",
    "- Smoker\n",
    "- Region\n",
    "\"\"\"\n",
    "## Checking for missing value\n",
    "insurance_dataset.isnull().sum()"
   ]
  },
  {
   "cell_type": "code",
   "execution_count": 7,
   "id": "78402d9a",
   "metadata": {},
   "outputs": [
    {
     "data": {
      "text/html": [
       "<div>\n",
       "<style scoped>\n",
       "    .dataframe tbody tr th:only-of-type {\n",
       "        vertical-align: middle;\n",
       "    }\n",
       "\n",
       "    .dataframe tbody tr th {\n",
       "        vertical-align: top;\n",
       "    }\n",
       "\n",
       "    .dataframe thead th {\n",
       "        text-align: right;\n",
       "    }\n",
       "</style>\n",
       "<table border=\"1\" class=\"dataframe\">\n",
       "  <thead>\n",
       "    <tr style=\"text-align: right;\">\n",
       "      <th></th>\n",
       "      <th>age</th>\n",
       "      <th>bmi</th>\n",
       "      <th>children</th>\n",
       "      <th>charges</th>\n",
       "    </tr>\n",
       "  </thead>\n",
       "  <tbody>\n",
       "    <tr>\n",
       "      <th>count</th>\n",
       "      <td>1340.000000</td>\n",
       "      <td>1340.000000</td>\n",
       "      <td>1340.000000</td>\n",
       "      <td>1340.000000</td>\n",
       "    </tr>\n",
       "    <tr>\n",
       "      <th>mean</th>\n",
       "      <td>39.200746</td>\n",
       "      <td>30.674347</td>\n",
       "      <td>1.097015</td>\n",
       "      <td>13698.376859</td>\n",
       "    </tr>\n",
       "    <tr>\n",
       "      <th>std</th>\n",
       "      <td>14.052367</td>\n",
       "      <td>6.117818</td>\n",
       "      <td>1.209678</td>\n",
       "      <td>18132.705333</td>\n",
       "    </tr>\n",
       "    <tr>\n",
       "      <th>min</th>\n",
       "      <td>18.000000</td>\n",
       "      <td>15.960000</td>\n",
       "      <td>0.000000</td>\n",
       "      <td>1121.873900</td>\n",
       "    </tr>\n",
       "    <tr>\n",
       "      <th>25%</th>\n",
       "      <td>26.750000</td>\n",
       "      <td>26.272500</td>\n",
       "      <td>0.000000</td>\n",
       "      <td>4744.325050</td>\n",
       "    </tr>\n",
       "    <tr>\n",
       "      <th>50%</th>\n",
       "      <td>39.000000</td>\n",
       "      <td>30.400000</td>\n",
       "      <td>1.000000</td>\n",
       "      <td>9388.753650</td>\n",
       "    </tr>\n",
       "    <tr>\n",
       "      <th>75%</th>\n",
       "      <td>51.000000</td>\n",
       "      <td>34.700000</td>\n",
       "      <td>2.000000</td>\n",
       "      <td>16781.331022</td>\n",
       "    </tr>\n",
       "    <tr>\n",
       "      <th>max</th>\n",
       "      <td>64.000000</td>\n",
       "      <td>53.130000</td>\n",
       "      <td>5.000000</td>\n",
       "      <td>500000.000000</td>\n",
       "    </tr>\n",
       "  </tbody>\n",
       "</table>\n",
       "</div>"
      ],
      "text/plain": [
       "               age          bmi     children        charges\n",
       "count  1340.000000  1340.000000  1340.000000    1340.000000\n",
       "mean     39.200746    30.674347     1.097015   13698.376859\n",
       "std      14.052367     6.117818     1.209678   18132.705333\n",
       "min      18.000000    15.960000     0.000000    1121.873900\n",
       "25%      26.750000    26.272500     0.000000    4744.325050\n",
       "50%      39.000000    30.400000     1.000000    9388.753650\n",
       "75%      51.000000    34.700000     2.000000   16781.331022\n",
       "max      64.000000    53.130000     5.000000  500000.000000"
      ]
     },
     "execution_count": 7,
     "metadata": {},
     "output_type": "execute_result"
    }
   ],
   "source": [
    "## Data analysis\n",
    "# statistical measures of the dataset\n",
    "insurance_dataset.describe()"
   ]
  },
  {
   "cell_type": "code",
   "execution_count": 12,
   "id": "14ba5dc1",
   "metadata": {},
   "outputs": [
    {
     "name": "stderr",
     "output_type": "stream",
     "text": [
      "C:\\Users\\Laxmikant\\anaconda3\\lib\\site-packages\\seaborn\\distributions.py:2619: FutureWarning: `distplot` is a deprecated function and will be removed in a future version. Please adapt your code to use either `displot` (a figure-level function with similar flexibility) or `histplot` (an axes-level function for histograms).\n",
      "  warnings.warn(msg, FutureWarning)\n"
     ]
    },
    {
     "data": {
      "image/png": "[encoded data removed]",
      "text/plain": [
       "<Figure size 432x432 with 1 Axes>"
      ]
     },
     "metadata": {},
     "output_type": "display_data"
    }
   ],
   "source": [
    "## Distribution of age value\n",
    "sns.set()\n",
    "plt.figure(figsize=(6,6))\n",
    "sns.distplot(insurance_dataset['age'])\n",
    "plt.title('Age Distribution')\n",
    "plt.show()"
   ]
  },
  {
   "cell_type": "code",
   "execution_count": 13,
   "id": "a9a127e2",
   "metadata": {},
   "outputs": [
    {
     "data": {
      "text/plain": [
       "18.0    69\n",
       "19.0    68\n",
       "50.0    30\n",
       "20.0    30\n",
       "51.0    29\n",
       "47.0    29\n",
       "46.0    29\n",
       "45.0    29\n",
       "48.0    29\n",
       "52.0    29\n",
       "22.0    28\n",
       "49.0    28\n",
       "54.0    28\n",
       "53.0    28\n",
       "21.0    28\n",
       "26.0    28\n",
       "24.0    28\n",
       "25.0    28\n",
       "28.0    28\n",
       "27.0    28\n",
       "23.0    28\n",
       "43.0    27\n",
       "29.0    27\n",
       "30.0    27\n",
       "41.0    27\n",
       "42.0    27\n",
       "44.0    27\n",
       "31.0    27\n",
       "40.0    27\n",
       "32.0    26\n",
       "33.0    26\n",
       "56.0    26\n",
       "34.0    26\n",
       "55.0    26\n",
       "57.0    26\n",
       "37.0    25\n",
       "59.0    25\n",
       "58.0    25\n",
       "36.0    25\n",
       "38.0    25\n",
       "35.0    25\n",
       "39.0    25\n",
       "61.0    23\n",
       "60.0    23\n",
       "63.0    23\n",
       "62.0    23\n",
       "64.0    22\n",
       "Name: age, dtype: int64"
      ]
     },
     "execution_count": 13,
     "metadata": {},
     "output_type": "execute_result"
    }
   ],
   "source": [
    "insurance_dataset['age'].value_counts()"
   ]
  },
  {
   "cell_type": "code",
   "execution_count": 14,
   "id": "471cb97a",
   "metadata": {},
   "outputs": [
    {
     "data": {
      "image/png": "[encoded data removed]",
      "text/plain": [
       "<Figure size 432x432 with 1 Axes>"
      ]
     },
     "metadata": {},
     "output_type": "display_data"
    }
   ],
   "source": [
    "## Gender column\n",
    "plt.figure(figsize=(6,6))\n",
    "sns.countplot(x='gender',data=insurance_dataset)\n",
    "plt.title('Sex distribution')\n",
    "plt.show()"
   ]
  },
  {
   "cell_type": "code",
   "execution_count": 15,
   "id": "7a99e6e2",
   "metadata": {},
   "outputs": [
    {
     "data": {
      "text/plain": [
       "male      677\n",
       "female    663\n",
       "Name: gender, dtype: int64"
      ]
     },
     "execution_count": 15,
     "metadata": {},
     "output_type": "execute_result"
    }
   ],
   "source": [
    "insurance_dataset['gender'].value_counts()"
   ]
  },
  {
   "cell_type": "code",
   "execution_count": 16,
   "id": "76f491f6",
   "metadata": {},
   "outputs": [
    {
     "name": "stderr",
     "output_type": "stream",
     "text": [
      "C:\\Users\\Laxmikant\\anaconda3\\lib\\site-packages\\seaborn\\distributions.py:2619: FutureWarning: `distplot` is a deprecated function and will be removed in a future version. Please adapt your code to use either `displot` (a figure-level function with similar flexibility) or `histplot` (an axes-level function for histograms).\n",
      "  warnings.warn(msg, FutureWarning)\n"
     ]
    },
    {
     "data": {
      "image/png": "[encoded data removed]",
      "text/plain": [
       "<Figure size 432x432 with 1 Axes>"
      ]
     },
     "metadata": {},
     "output_type": "display_data"
    }
   ],
   "source": [
    "## BMI distribution\n",
    "# Normal BMI range --> 18.5 to 24.9\n",
    "plt.figure(figsize=(6,6))\n",
    "sns.distplot(insurance_dataset['bmi'])\n",
    "plt.title('BMI Distribution')\n",
    "plt.show()"
   ]
  },
  {
   "cell_type": "code",
   "execution_count": 17,
   "id": "438fc762",
   "metadata": {},
   "outputs": [
    {
     "data": {
      "text/plain": [
       "32.300    13\n",
       "28.310     9\n",
       "30.495     8\n",
       "30.875     8\n",
       "28.880     8\n",
       "          ..\n",
       "46.700     1\n",
       "46.200     1\n",
       "23.800     1\n",
       "44.770     1\n",
       "50.000     1\n",
       "Name: bmi, Length: 550, dtype: int64"
      ]
     },
     "execution_count": 17,
     "metadata": {},
     "output_type": "execute_result"
    }
   ],
   "source": [
    "insurance_dataset['bmi'].value_counts()"
   ]
  },
  {
   "cell_type": "code",
   "execution_count": 18,
   "id": "12a47587",
   "metadata": {},
   "outputs": [
    {
     "data": {
      "image/png": "[encoded data removed]",
      "text/plain": [
       "<Figure size 432x432 with 1 Axes>"
      ]
     },
     "metadata": {},
     "output_type": "display_data"
    }
   ],
   "source": [
    "## Childern column\n",
    "plt.figure(figsize=(6,6))\n",
    "sns.countplot(x='children',data=insurance_dataset)\n",
    "plt.title('Children distribution')\n",
    "plt.show()"
   ]
  },
  {
   "cell_type": "code",
   "execution_count": 19,
   "id": "6d66b446",
   "metadata": {},
   "outputs": [
    {
     "data": {
      "text/plain": [
       "0.0    575\n",
       "1.0    324\n",
       "2.0    240\n",
       "3.0    157\n",
       "4.0     25\n",
       "5.0     19\n",
       "Name: children, dtype: int64"
      ]
     },
     "execution_count": 19,
     "metadata": {},
     "output_type": "execute_result"
    }
   ],
   "source": [
    "insurance_dataset['children'].value_counts()"
   ]
  },
  {
   "cell_type": "code",
   "execution_count": 21,
   "id": "a174923f",
   "metadata": {},
   "outputs": [
    {
     "data": {
      "image/png": "[encoded data removed]",
      "text/plain": [
       "<Figure size 432x432 with 1 Axes>"
      ]
     },
     "metadata": {},
     "output_type": "display_data"
    }
   ],
   "source": [
    "## Smoker column\n",
    "plt.figure(figsize=(6,6))\n",
    "sns.countplot(x='medical',data=insurance_dataset)\n",
    "plt.title('Smoker distribution')\n",
    "plt.show()"
   ]
  },
  {
   "cell_type": "code",
   "execution_count": 22,
   "id": "7fcd7ec0",
   "metadata": {},
   "outputs": [
    {
     "ename": "KeyError",
     "evalue": "'smoker'",
     "output_type": "error",
     "traceback": [
      "\u001b[1;31m---------------------------------------------------------------------------\u001b[0m",
      "\u001b[1;31mKeyError\u001b[0m                                  Traceback (most recent call last)",
      "\u001b[1;32m~\\anaconda3\\lib\\site-packages\\pandas\\core\\indexes\\base.py\u001b[0m in \u001b[0;36mget_loc\u001b[1;34m(self, key, method, tolerance)\u001b[0m\n\u001b[0;32m   3360\u001b[0m             \u001b[1;32mtry\u001b[0m\u001b[1;33m:\u001b[0m\u001b[1;33m\u001b[0m\u001b[1;33m\u001b[0m\u001b[0m\n\u001b[1;32m-> 3361\u001b[1;33m                 \u001b[1;32mreturn\u001b[0m \u001b[0mself\u001b[0m\u001b[1;33m.\u001b[0m\u001b[0m_engine\u001b[0m\u001b[1;33m.\u001b[0m\u001b[0mget_loc\u001b[0m\u001b[1;33m(\u001b[0m\u001b[0mcasted_key\u001b[0m\u001b[1;33m)\u001b[0m\u001b[1;33m\u001b[0m\u001b[1;33m\u001b[0m\u001b[0m\n\u001b[0m\u001b[0;32m   3362\u001b[0m             \u001b[1;32mexcept\u001b[0m \u001b[0mKeyError\u001b[0m \u001b[1;32mas\u001b[0m \u001b[0merr\u001b[0m\u001b[1;33m:\u001b[0m\u001b[1;33m\u001b[0m\u001b[1;33m\u001b[0m\u001b[0m\n",
      "\u001b[1;32m~\\anaconda3\\lib\\site-packages\\pandas\\_libs\\index.pyx\u001b[0m in \u001b[0;36mpandas._libs.index.IndexEngine.get_loc\u001b[1;34m()\u001b[0m\n",
      "\u001b[1;32m~\\anaconda3\\lib\\site-packages\\pandas\\_libs\\index.pyx\u001b[0m in \u001b[0;36mpandas._libs.index.IndexEngine.get_loc\u001b[1;34m()\u001b[0m\n",
      "\u001b[1;32mpandas\\_libs\\hashtable_class_helper.pxi\u001b[0m in \u001b[0;36mpandas._libs.hashtable.PyObjectHashTable.get_item\u001b[1;34m()\u001b[0m\n",
      "\u001b[1;32mpandas\\_libs\\hashtable_class_helper.pxi\u001b[0m in \u001b[0;36mpandas._libs.hashtable.PyObjectHashTable.get_item\u001b[1;34m()\u001b[0m\n",
      "\u001b[1;31mKeyError\u001b[0m: 'smoker'",
      "\nThe above exception was the direct cause of the following exception:\n",
      "\u001b[1;31mKeyError\u001b[0m                                  Traceback (most recent call last)",
      "\u001b[1;32mC:\\Users\\LAXMIK~1\\AppData\\Local\\Temp/ipykernel_17752/2805241308.py\u001b[0m in \u001b[0;36m<module>\u001b[1;34m\u001b[0m\n\u001b[1;32m----> 1\u001b[1;33m \u001b[0minsurance_dataset\u001b[0m\u001b[1;33m[\u001b[0m\u001b[1;34m'smoker'\u001b[0m\u001b[1;33m]\u001b[0m\u001b[1;33m.\u001b[0m\u001b[0mvalue_counts\u001b[0m\u001b[1;33m(\u001b[0m\u001b[1;33m)\u001b[0m\u001b[1;33m\u001b[0m\u001b[1;33m\u001b[0m\u001b[0m\n\u001b[0m",
      "\u001b[1;32m~\\anaconda3\\lib\\site-packages\\pandas\\core\\frame.py\u001b[0m in \u001b[0;36m__getitem__\u001b[1;34m(self, key)\u001b[0m\n\u001b[0;32m   3456\u001b[0m             \u001b[1;32mif\u001b[0m \u001b[0mself\u001b[0m\u001b[1;33m.\u001b[0m\u001b[0mcolumns\u001b[0m\u001b[1;33m.\u001b[0m\u001b[0mnlevels\u001b[0m \u001b[1;33m>\u001b[0m \u001b[1;36m1\u001b[0m\u001b[1;33m:\u001b[0m\u001b[1;33m\u001b[0m\u001b[1;33m\u001b[0m\u001b[0m\n\u001b[0;32m   3457\u001b[0m                 \u001b[1;32mreturn\u001b[0m \u001b[0mself\u001b[0m\u001b[1;33m.\u001b[0m\u001b[0m_getitem_multilevel\u001b[0m\u001b[1;33m(\u001b[0m\u001b[0mkey\u001b[0m\u001b[1;33m)\u001b[0m\u001b[1;33m\u001b[0m\u001b[1;33m\u001b[0m\u001b[0m\n\u001b[1;32m-> 3458\u001b[1;33m             \u001b[0mindexer\u001b[0m \u001b[1;33m=\u001b[0m \u001b[0mself\u001b[0m\u001b[1;33m.\u001b[0m\u001b[0mcolumns\u001b[0m\u001b[1;33m.\u001b[0m\u001b[0mget_loc\u001b[0m\u001b[1;33m(\u001b[0m\u001b[0mkey\u001b[0m\u001b[1;33m)\u001b[0m\u001b[1;33m\u001b[0m\u001b[1;33m\u001b[0m\u001b[0m\n\u001b[0m\u001b[0;32m   3459\u001b[0m             \u001b[1;32mif\u001b[0m \u001b[0mis_integer\u001b[0m\u001b[1;33m(\u001b[0m\u001b[0mindexer\u001b[0m\u001b[1;33m)\u001b[0m\u001b[1;33m:\u001b[0m\u001b[1;33m\u001b[0m\u001b[1;33m\u001b[0m\u001b[0m\n\u001b[0;32m   3460\u001b[0m                 \u001b[0mindexer\u001b[0m \u001b[1;33m=\u001b[0m \u001b[1;33m[\u001b[0m\u001b[0mindexer\u001b[0m\u001b[1;33m]\u001b[0m\u001b[1;33m\u001b[0m\u001b[1;33m\u001b[0m\u001b[0m\n",
      "\u001b[1;32m~\\anaconda3\\lib\\site-packages\\pandas\\core\\indexes\\base.py\u001b[0m in \u001b[0;36mget_loc\u001b[1;34m(self, key, method, tolerance)\u001b[0m\n\u001b[0;32m   3361\u001b[0m                 \u001b[1;32mreturn\u001b[0m \u001b[0mself\u001b[0m\u001b[1;33m.\u001b[0m\u001b[0m_engine\u001b[0m\u001b[1;33m.\u001b[0m\u001b[0mget_loc\u001b[0m\u001b[1;33m(\u001b[0m\u001b[0mcasted_key\u001b[0m\u001b[1;33m)\u001b[0m\u001b[1;33m\u001b[0m\u001b[1;33m\u001b[0m\u001b[0m\n\u001b[0;32m   3362\u001b[0m             \u001b[1;32mexcept\u001b[0m \u001b[0mKeyError\u001b[0m \u001b[1;32mas\u001b[0m \u001b[0merr\u001b[0m\u001b[1;33m:\u001b[0m\u001b[1;33m\u001b[0m\u001b[1;33m\u001b[0m\u001b[0m\n\u001b[1;32m-> 3363\u001b[1;33m                 \u001b[1;32mraise\u001b[0m \u001b[0mKeyError\u001b[0m\u001b[1;33m(\u001b[0m\u001b[0mkey\u001b[0m\u001b[1;33m)\u001b[0m \u001b[1;32mfrom\u001b[0m \u001b[0merr\u001b[0m\u001b[1;33m\u001b[0m\u001b[1;33m\u001b[0m\u001b[0m\n\u001b[0m\u001b[0;32m   3364\u001b[0m \u001b[1;33m\u001b[0m\u001b[0m\n\u001b[0;32m   3365\u001b[0m         \u001b[1;32mif\u001b[0m \u001b[0mis_scalar\u001b[0m\u001b[1;33m(\u001b[0m\u001b[0mkey\u001b[0m\u001b[1;33m)\u001b[0m \u001b[1;32mand\u001b[0m \u001b[0misna\u001b[0m\u001b[1;33m(\u001b[0m\u001b[0mkey\u001b[0m\u001b[1;33m)\u001b[0m \u001b[1;32mand\u001b[0m \u001b[1;32mnot\u001b[0m \u001b[0mself\u001b[0m\u001b[1;33m.\u001b[0m\u001b[0mhasnans\u001b[0m\u001b[1;33m:\u001b[0m\u001b[1;33m\u001b[0m\u001b[1;33m\u001b[0m\u001b[0m\n",
      "\u001b[1;31mKeyError\u001b[0m: 'smoker'"
     ]
    }
   ],
   "source": [
    "insurance_dataset['smoker'].value_counts()"
   ]
  },
  {
   "cell_type": "code",
   "execution_count": 23,
   "id": "82c3fb27",
   "metadata": {},
   "outputs": [
    {
     "data": {
      "image/png": "[encoded data removed]",
      "text/plain": [
       "<Figure size 432x432 with 1 Axes>"
      ]
     },
     "metadata": {},
     "output_type": "display_data"
    }
   ],
   "source": [
    "## Region distribution\n",
    "plt.figure(figsize=(6,6))\n",
    "sns.countplot(x='region',data=insurance_dataset)\n",
    "plt.title('Region distribution')\n",
    "plt.show()"
   ]
  },
  {
   "cell_type": "code",
   "execution_count": 24,
   "id": "89ac9773",
   "metadata": {},
   "outputs": [
    {
     "data": {
      "text/plain": [
       "southeast    365\n",
       "southwest    325\n",
       "northwest    325\n",
       "northeast    325\n",
       "Name: region, dtype: int64"
      ]
     },
     "execution_count": 24,
     "metadata": {},
     "output_type": "execute_result"
    }
   ],
   "source": [
    "insurance_dataset['region'].value_counts()"
   ]
  },
  {
   "cell_type": "code",
   "execution_count": 25,
   "id": "ef436c4c",
   "metadata": {},
   "outputs": [
    {
     "name": "stderr",
     "output_type": "stream",
     "text": [
      "C:\\Users\\Laxmikant\\anaconda3\\lib\\site-packages\\seaborn\\distributions.py:2619: FutureWarning: `distplot` is a deprecated function and will be removed in a future version. Please adapt your code to use either `displot` (a figure-level function with similar flexibility) or `histplot` (an axes-level function for histograms).\n",
      "  warnings.warn(msg, FutureWarning)\n"
     ]
    },
    {
     "data": {
      "image/png": "[encoded data removed]",
      "text/plain": [
       "<Figure size 432x432 with 1 Axes>"
      ]
     },
     "metadata": {},
     "output_type": "display_data"
    }
   ],
   "source": [
    "## Distribution of charge value\n",
    "sns.set()\n",
    "plt.figure(figsize=(6,6))\n",
    "sns.distplot(insurance_dataset['charges'])\n",
    "plt.title('Charges Distribution')\n",
    "plt.show()"
   ]
  },
  {
   "cell_type": "code",
   "execution_count": 37,
   "id": "cc708d86",
   "metadata": {},
   "outputs": [],
   "source": [
    "## Data preprocessing\n",
    "## Encoding the categorical features\n",
    "\n",
    "#encoding sex column\n",
    "insurance_dataset.replace({'gender':{'female':1,'male':0}},inplace=True)\n",
    "\n",
    "#encoding smoker column\n",
    "insurance_dataset.replace({'medical':{'no':1,'yes':0}},inplace=True)\n",
    "\n",
    "#encoding region column\n",
    "insurance_dataset.replace({'region':{'southeast':0,'southwest':1,'northwest':2,'northeast':3}},inplace=True)"
   ]
  },
  {
   "cell_type": "code",
   "execution_count": 38,
   "id": "4ef1b797",
   "metadata": {},
   "outputs": [],
   "source": [
    "## Splitting the features and target\n",
    "X = insurance_dataset.drop(columns='charges',axis=1)\n",
    "Y = insurance_dataset['charges']"
   ]
  },
  {
   "cell_type": "code",
   "execution_count": 39,
   "id": "af9859cf",
   "metadata": {},
   "outputs": [
    {
     "name": "stdout",
     "output_type": "stream",
     "text": [
      "       age  gender     bmi  children  medical  region\n",
      "0     19.0       1  27.900       0.0        0       1\n",
      "1     18.0       0  33.770       1.0        1       0\n",
      "2     28.0       0  33.000       3.0        1       0\n",
      "3     33.0       0  22.705       0.0        1       2\n",
      "4     32.0       0  28.880       0.0        1       2\n",
      "...    ...     ...     ...       ...      ...     ...\n",
      "1335  18.0       1  36.850       0.0        1       0\n",
      "1336  21.0       1  25.800       0.0        1       1\n",
      "1337  61.0       1  29.070       0.0        0       2\n",
      "1338  20.0       0  26.000       0.0        1       0\n",
      "1339  50.0       1  50.000       5.0        0       3\n",
      "\n",
      "[1340 rows x 6 columns]\n"
     ]
    }
   ],
   "source": [
    "print(X)"
   ]
  },
  {
   "cell_type": "code",
   "execution_count": 40,
   "id": "48bad23b",
   "metadata": {},
   "outputs": [
    {
     "name": "stdout",
     "output_type": "stream",
     "text": [
      "0        16884.92400\n",
      "1         1725.55230\n",
      "2         4449.46200\n",
      "3        21984.47061\n",
      "4         3866.85520\n",
      "            ...     \n",
      "1335      1629.83350\n",
      "1336      2007.94500\n",
      "1337     29141.36030\n",
      "1338    100000.00000\n",
      "1339    500000.00000\n",
      "Name: charges, Length: 1340, dtype: float64\n"
     ]
    }
   ],
   "source": [
    "print(Y)"
   ]
  },
  {
   "cell_type": "code",
   "execution_count": 41,
   "id": "1b6a5f59",
   "metadata": {},
   "outputs": [],
   "source": [
    "## Splitting the data into training data and testing data\n",
    "X_train, X_test, Y_train, Y_test = train_test_split(X,Y,test_size=0.2, random_state=2)"
   ]
  },
  {
   "cell_type": "code",
   "execution_count": 42,
   "id": "22860e44",
   "metadata": {},
   "outputs": [
    {
     "name": "stdout",
     "output_type": "stream",
     "text": [
      "(1340, 6) (1072, 6) (268, 6)\n"
     ]
    }
   ],
   "source": [
    "print(X.shape,X_train.shape,X_test.shape)"
   ]
  },
  {
   "cell_type": "code",
   "execution_count": 43,
   "id": "7ca03f55",
   "metadata": {},
   "outputs": [],
   "source": [
    "### Model training\n",
    "### loading the Linear Regression model\n",
    "regressor = LinearRegression()"
   ]
  },
  {
   "cell_type": "code",
   "execution_count": 52,
   "id": "c6372074",
   "metadata": {},
   "outputs": [
    {
     "data": {
      "text/plain": [
       "LinearRegression()"
      ]
     },
     "execution_count": 52,
     "metadata": {},
     "output_type": "execute_result"
    }
   ],
   "source": [
    "regressor.fit(X,Y)"
   ]
  },
  {
   "cell_type": "code",
   "execution_count": 53,
   "id": "996cec54",
   "metadata": {},
   "outputs": [],
   "source": [
    "## Model evaluation\n",
    "# prediction on training data\n",
    "train_data_prediction = regressor.predict(X_train)"
   ]
  },
  {
   "cell_type": "code",
   "execution_count": 54,
   "id": "02aa8a82",
   "metadata": {},
   "outputs": [
    {
     "name": "stdout",
     "output_type": "stream",
     "text": [
      "R Squared value :  0.3866235393599944\n"
     ]
    }
   ],
   "source": [
    "# R squared value - performance matrix\n",
    "r2_train = metrics.r2_score(Y_train,train_data_prediction)\n",
    "print('R Squared value : ', r2_train)"
   ]
  },
  {
   "cell_type": "code",
   "execution_count": 55,
   "id": "750c4b8a",
   "metadata": {},
   "outputs": [],
   "source": [
    "# prediction on training data\n",
    "test_data_prediction = regressor.predict(X_test)"
   ]
  },
  {
   "cell_type": "code",
   "execution_count": 56,
   "id": "b2730a1e",
   "metadata": {},
   "outputs": [
    {
     "name": "stdout",
     "output_type": "stream",
     "text": [
      "R Squared value :  0.5526172177255811\n"
     ]
    }
   ],
   "source": [
    "# R squared value - performance matrix\n",
    "r2_test = metrics.r2_score(Y_test,test_data_prediction)\n",
    "print('R Squared value : ', r2_test)"
   ]
  },
  {
   "cell_type": "code",
   "execution_count": 57,
   "id": "226033bd",
   "metadata": {},
   "outputs": [
    {
     "name": "stdout",
     "output_type": "stream",
     "text": [
      "[1324.88324491]\n",
      "The Insurance Cost is USD  1324.8832449148967\n"
     ]
    }
   ],
   "source": [
    "## Building a predictive system\n",
    "input_data = (31,1,25.74,0,1,0)\n",
    "\n",
    "#changing input_data into numpy array\n",
    "input_data_as_numpyArray = np.asarray(input_data)\n",
    "\n",
    "# reshape the array\n",
    "input_data_reshaped = input_data_as_numpyArray.reshape(1,-1)\n",
    "\n",
    "prediction = regressor.predict(input_data_reshaped)\n",
    "print(prediction)\n",
    "print('The Insurance Cost is USD ', prediction[0])"
   ]
  },
  {
   "cell_type": "code",
   "execution_count": 34,
   "id": "83582804",
   "metadata": {},
   "outputs": [],
   "source": [
    "# Importing required dependencies\n",
    "import numpy as np\n",
    "import pandas as pd\n",
    "import matplotlib.pyplot as plt\n",
    "import seaborn as sns\n",
    "from sklearn.model_selection import train_test_split\n",
    "from sklearn.linear_model import LinearRegression\n",
    "from sklearn import metrics"
   ]
  },
  {
   "cell_type": "code",
   "execution_count": 35,
   "id": "e103966f",
   "metadata": {},
   "outputs": [
    {
     "name": "stdout",
     "output_type": "stream",
     "text": [
      "     age     sex  no. of surgeries  blood pressure  cholestrol  blood sugar  \\\n",
      "0     63    Male                 3             145         233         True   \n",
      "1     37    Male                 2             130         250        False   \n",
      "2     41  Female                 1             130         204        False   \n",
      "3     56    Male                 1             120         236        False   \n",
      "4     57  Female                 0             120         354        False   \n",
      "..   ...     ...               ...             ...         ...          ...   \n",
      "298   57  Female                 0             140         241        False   \n",
      "299   45    Male                 3             110         264        False   \n",
      "300   68    Male                 0             144         193         True   \n",
      "301   57    Male                 0             130         131        False   \n",
      "302   57  Female                 1             130         236        False   \n",
      "\n",
      "     ecg  max. heart rate bone fracture  Target  \n",
      "0      0              150            No       1  \n",
      "1      1              187            No       1  \n",
      "2      0              172            No       1  \n",
      "3      1              178            No       1  \n",
      "4      1              163           Yes       1  \n",
      "..   ...              ...           ...     ...  \n",
      "298    1              123           Yes       0  \n",
      "299    1              132            No       0  \n",
      "300    1              141            No       0  \n",
      "301    1              115           Yes       0  \n",
      "302    0              174            No       0  \n",
      "\n",
      "[303 rows x 10 columns]\n"
     ]
    }
   ],
   "source": [
    "## Data collection and analysis\n",
    "#  Loading the dataframe from csv file to pandas dataframe\n",
    "data = pd.read_csv('C:\\\\Users\\\\admin\\\\Downloads\\medical report.csv')\n",
    "print(data)"
   ]
  },
  {
   "cell_type": "code",
   "execution_count": 36,
   "id": "145abc67",
   "metadata": {},
   "outputs": [
    {
     "data": {
      "text/plain": [
       "(303, 10)"
      ]
     },
     "execution_count": 36,
     "metadata": {},
     "output_type": "execute_result"
    }
   ],
   "source": [
    "# Shape - Dimension of the dataframe\n",
    "data.shape"
   ]
  },
  {
   "cell_type": "code",
   "execution_count": 37,
   "id": "85eaf776",
   "metadata": {},
   "outputs": [
    {
     "data": {
      "text/plain": [
       "age                  int64\n",
       "sex                 object\n",
       "no. of surgeries     int64\n",
       "blood pressure       int64\n",
       "cholestrol           int64\n",
       "blood sugar           bool\n",
       "ecg                  int64\n",
       "max. heart rate      int64\n",
       "bone fracture       object\n",
       "Target               int64\n",
       "dtype: object"
      ]
     },
     "execution_count": 37,
     "metadata": {},
     "output_type": "execute_result"
    }
   ],
   "source": [
    "# Data types of the various columns\n",
    "data.dtypes"
   ]
  },
  {
   "cell_type": "code",
   "execution_count": 38,
   "id": "37a35255",
   "metadata": {},
   "outputs": [
    {
     "data": {
      "text/html": [
       "<div>\n",
       "<style scoped>\n",
       "    .dataframe tbody tr th:only-of-type {\n",
       "        vertical-align: middle;\n",
       "    }\n",
       "\n",
       "    .dataframe tbody tr th {\n",
       "        vertical-align: top;\n",
       "    }\n",
       "\n",
       "    .dataframe thead th {\n",
       "        text-align: right;\n",
       "    }\n",
       "</style>\n",
       "<table border=\"1\" class=\"dataframe\">\n",
       "  <thead>\n",
       "    <tr style=\"text-align: right;\">\n",
       "      <th></th>\n",
       "      <th>age</th>\n",
       "      <th>sex</th>\n",
       "      <th>no. of surgeries</th>\n",
       "      <th>blood pressure</th>\n",
       "      <th>cholestrol</th>\n",
       "      <th>blood sugar</th>\n",
       "      <th>ecg</th>\n",
       "      <th>max. heart rate</th>\n",
       "      <th>bone fracture</th>\n",
       "      <th>Target</th>\n",
       "    </tr>\n",
       "  </thead>\n",
       "  <tbody>\n",
       "    <tr>\n",
       "      <th>0</th>\n",
       "      <td>63</td>\n",
       "      <td>Male</td>\n",
       "      <td>3</td>\n",
       "      <td>145</td>\n",
       "      <td>233</td>\n",
       "      <td>True</td>\n",
       "      <td>0</td>\n",
       "      <td>150</td>\n",
       "      <td>No</td>\n",
       "      <td>1</td>\n",
       "    </tr>\n",
       "    <tr>\n",
       "      <th>1</th>\n",
       "      <td>37</td>\n",
       "      <td>Male</td>\n",
       "      <td>2</td>\n",
       "      <td>130</td>\n",
       "      <td>250</td>\n",
       "      <td>False</td>\n",
       "      <td>1</td>\n",
       "      <td>187</td>\n",
       "      <td>No</td>\n",
       "      <td>1</td>\n",
       "    </tr>\n",
       "    <tr>\n",
       "      <th>2</th>\n",
       "      <td>41</td>\n",
       "      <td>Female</td>\n",
       "      <td>1</td>\n",
       "      <td>130</td>\n",
       "      <td>204</td>\n",
       "      <td>False</td>\n",
       "      <td>0</td>\n",
       "      <td>172</td>\n",
       "      <td>No</td>\n",
       "      <td>1</td>\n",
       "    </tr>\n",
       "    <tr>\n",
       "      <th>3</th>\n",
       "      <td>56</td>\n",
       "      <td>Male</td>\n",
       "      <td>1</td>\n",
       "      <td>120</td>\n",
       "      <td>236</td>\n",
       "      <td>False</td>\n",
       "      <td>1</td>\n",
       "      <td>178</td>\n",
       "      <td>No</td>\n",
       "      <td>1</td>\n",
       "    </tr>\n",
       "    <tr>\n",
       "      <th>4</th>\n",
       "      <td>57</td>\n",
       "      <td>Female</td>\n",
       "      <td>0</td>\n",
       "      <td>120</td>\n",
       "      <td>354</td>\n",
       "      <td>False</td>\n",
       "      <td>1</td>\n",
       "      <td>163</td>\n",
       "      <td>Yes</td>\n",
       "      <td>1</td>\n",
       "    </tr>\n",
       "  </tbody>\n",
       "</table>\n",
       "</div>"
      ],
      "text/plain": [
       "   age     sex  no. of surgeries  blood pressure  cholestrol  blood sugar  \\\n",
       "0   63    Male                 3             145         233         True   \n",
       "1   37    Male                 2             130         250        False   \n",
       "2   41  Female                 1             130         204        False   \n",
       "3   56    Male                 1             120         236        False   \n",
       "4   57  Female                 0             120         354        False   \n",
       "\n",
       "   ecg  max. heart rate bone fracture  Target  \n",
       "0    0              150            No       1  \n",
       "1    1              187            No       1  \n",
       "2    0              172            No       1  \n",
       "3    1              178            No       1  \n",
       "4    1              163           Yes       1  "
      ]
     },
     "execution_count": 38,
     "metadata": {},
     "output_type": "execute_result"
    }
   ],
   "source": [
    "# Display a few rows\n",
    "data.head()"
   ]
  },
  {
   "cell_type": "code",
   "execution_count": 39,
   "id": "646bb5b8",
   "metadata": {},
   "outputs": [
    {
     "data": {
      "text/html": [
       "<div>\n",
       "<style scoped>\n",
       "    .dataframe tbody tr th:only-of-type {\n",
       "        vertical-align: middle;\n",
       "    }\n",
       "\n",
       "    .dataframe tbody tr th {\n",
       "        vertical-align: top;\n",
       "    }\n",
       "\n",
       "    .dataframe thead th {\n",
       "        text-align: right;\n",
       "    }\n",
       "</style>\n",
       "<table border=\"1\" class=\"dataframe\">\n",
       "  <thead>\n",
       "    <tr style=\"text-align: right;\">\n",
       "      <th></th>\n",
       "      <th>age</th>\n",
       "      <th>no. of surgeries</th>\n",
       "      <th>blood pressure</th>\n",
       "      <th>cholestrol</th>\n",
       "      <th>ecg</th>\n",
       "      <th>max. heart rate</th>\n",
       "      <th>Target</th>\n",
       "    </tr>\n",
       "  </thead>\n",
       "  <tbody>\n",
       "    <tr>\n",
       "      <th>count</th>\n",
       "      <td>303.000000</td>\n",
       "      <td>303.000000</td>\n",
       "      <td>303.000000</td>\n",
       "      <td>303.000000</td>\n",
       "      <td>303.000000</td>\n",
       "      <td>303.000000</td>\n",
       "      <td>303.000000</td>\n",
       "    </tr>\n",
       "    <tr>\n",
       "      <th>mean</th>\n",
       "      <td>54.366337</td>\n",
       "      <td>0.966997</td>\n",
       "      <td>131.623762</td>\n",
       "      <td>246.264026</td>\n",
       "      <td>0.528053</td>\n",
       "      <td>149.646865</td>\n",
       "      <td>0.544554</td>\n",
       "    </tr>\n",
       "    <tr>\n",
       "      <th>std</th>\n",
       "      <td>9.082101</td>\n",
       "      <td>1.032052</td>\n",
       "      <td>17.538143</td>\n",
       "      <td>51.830751</td>\n",
       "      <td>0.525860</td>\n",
       "      <td>22.905161</td>\n",
       "      <td>0.498835</td>\n",
       "    </tr>\n",
       "    <tr>\n",
       "      <th>min</th>\n",
       "      <td>29.000000</td>\n",
       "      <td>0.000000</td>\n",
       "      <td>94.000000</td>\n",
       "      <td>126.000000</td>\n",
       "      <td>0.000000</td>\n",
       "      <td>71.000000</td>\n",
       "      <td>0.000000</td>\n",
       "    </tr>\n",
       "    <tr>\n",
       "      <th>25%</th>\n",
       "      <td>47.500000</td>\n",
       "      <td>0.000000</td>\n",
       "      <td>120.000000</td>\n",
       "      <td>211.000000</td>\n",
       "      <td>0.000000</td>\n",
       "      <td>133.500000</td>\n",
       "      <td>0.000000</td>\n",
       "    </tr>\n",
       "    <tr>\n",
       "      <th>50%</th>\n",
       "      <td>55.000000</td>\n",
       "      <td>1.000000</td>\n",
       "      <td>130.000000</td>\n",
       "      <td>240.000000</td>\n",
       "      <td>1.000000</td>\n",
       "      <td>153.000000</td>\n",
       "      <td>1.000000</td>\n",
       "    </tr>\n",
       "    <tr>\n",
       "      <th>75%</th>\n",
       "      <td>61.000000</td>\n",
       "      <td>2.000000</td>\n",
       "      <td>140.000000</td>\n",
       "      <td>274.500000</td>\n",
       "      <td>1.000000</td>\n",
       "      <td>166.000000</td>\n",
       "      <td>1.000000</td>\n",
       "    </tr>\n",
       "    <tr>\n",
       "      <th>max</th>\n",
       "      <td>77.000000</td>\n",
       "      <td>3.000000</td>\n",
       "      <td>200.000000</td>\n",
       "      <td>564.000000</td>\n",
       "      <td>2.000000</td>\n",
       "      <td>202.000000</td>\n",
       "      <td>1.000000</td>\n",
       "    </tr>\n",
       "  </tbody>\n",
       "</table>\n",
       "</div>"
      ],
      "text/plain": [
       "              age  no. of surgeries  blood pressure  cholestrol         ecg  \\\n",
       "count  303.000000        303.000000      303.000000  303.000000  303.000000   \n",
       "mean    54.366337          0.966997      131.623762  246.264026    0.528053   \n",
       "std      9.082101          1.032052       17.538143   51.830751    0.525860   \n",
       "min     29.000000          0.000000       94.000000  126.000000    0.000000   \n",
       "25%     47.500000          0.000000      120.000000  211.000000    0.000000   \n",
       "50%     55.000000          1.000000      130.000000  240.000000    1.000000   \n",
       "75%     61.000000          2.000000      140.000000  274.500000    1.000000   \n",
       "max     77.000000          3.000000      200.000000  564.000000    2.000000   \n",
       "\n",
       "       max. heart rate      Target  \n",
       "count       303.000000  303.000000  \n",
       "mean        149.646865    0.544554  \n",
       "std          22.905161    0.498835  \n",
       "min          71.000000    0.000000  \n",
       "25%         133.500000    0.000000  \n",
       "50%         153.000000    1.000000  \n",
       "75%         166.000000    1.000000  \n",
       "max         202.000000    1.000000  "
      ]
     },
     "execution_count": 39,
     "metadata": {},
     "output_type": "execute_result"
    }
   ],
   "source": [
    "data.describe()"
   ]
  },
  {
   "cell_type": "code",
   "execution_count": 40,
   "id": "07b7631f",
   "metadata": {},
   "outputs": [
    {
     "name": "stdout",
     "output_type": "stream",
     "text": [
      "<class 'pandas.core.frame.DataFrame'>\n",
      "RangeIndex: 303 entries, 0 to 302\n",
      "Data columns (total 10 columns):\n",
      " #   Column            Non-Null Count  Dtype \n",
      "---  ------            --------------  ----- \n",
      " 0   age               303 non-null    int64 \n",
      " 1   sex               303 non-null    object\n",
      " 2   no. of surgeries  303 non-null    int64 \n",
      " 3   blood pressure    303 non-null    int64 \n",
      " 4   cholestrol        303 non-null    int64 \n",
      " 5   blood sugar       303 non-null    bool  \n",
      " 6   ecg               303 non-null    int64 \n",
      " 7   max. heart rate   303 non-null    int64 \n",
      " 8   bone fracture     303 non-null    object\n",
      " 9   Target            303 non-null    int64 \n",
      "dtypes: bool(1), int64(7), object(2)\n",
      "memory usage: 21.7+ KB\n"
     ]
    }
   ],
   "source": [
    "# getting some information about the dataset\n",
    "data.info()"
   ]
  },
  {
   "cell_type": "code",
   "execution_count": 41,
   "id": "040c211f",
   "metadata": {},
   "outputs": [
    {
     "data": {
      "text/plain": [
       "age                 0\n",
       "sex                 0\n",
       "no. of surgeries    0\n",
       "blood pressure      0\n",
       "cholestrol          0\n",
       "blood sugar         0\n",
       "ecg                 0\n",
       "max. heart rate     0\n",
       "bone fracture       0\n",
       "Target              0\n",
       "dtype: int64"
      ]
     },
     "execution_count": 41,
     "metadata": {},
     "output_type": "execute_result"
    }
   ],
   "source": [
    "data.isnull().sum()"
   ]
  },
  {
   "cell_type": "code",
   "execution_count": 42,
   "id": "74ff0f4d",
   "metadata": {},
   "outputs": [
    {
     "name": "stderr",
     "output_type": "stream",
     "text": [
      "C:\\Users\\admin\\anaconda3\\lib\\site-packages\\seaborn\\distributions.py:2619: FutureWarning: `distplot` is a deprecated function and will be removed in a future version. Please adapt your code to use either `displot` (a figure-level function with similar flexibility) or `histplot` (an axes-level function for histograms).\n",
      "  warnings.warn(msg, FutureWarning)\n"
     ]
    },
    {
     "data": {
      "image/png": "[encoded data removed]",
      "text/plain": [
       "<Figure size 432x432 with 1 Axes>"
      ]
     },
     "metadata": {},
     "output_type": "display_data"
    }
   ],
   "source": [
    "## Distribution of age value\n",
    "sns.set()\n",
    "plt.figure(figsize=(6,6))\n",
    "sns.distplot(data['age'])\n",
    "plt.title('Age Distribution')\n",
    "plt.show()"
   ]
  },
  {
   "cell_type": "code",
   "execution_count": 43,
   "id": "7f7edcaa",
   "metadata": {},
   "outputs": [
    {
     "data": {
      "image/png": "[encoded data removed]",
      "text/plain": [
       "<Figure size 432x432 with 1 Axes>"
      ]
     },
     "metadata": {},
     "output_type": "display_data"
    }
   ],
   "source": [
    "## Gender column\n",
    "plt.figure(figsize=(6,6))\n",
    "sns.countplot(x='sex',data=data)\n",
    "plt.title('Sex distribution')\n",
    "plt.show()"
   ]
  },
  {
   "cell_type": "code",
   "execution_count": 44,
   "id": "e8948ab6",
   "metadata": {},
   "outputs": [
    {
     "data": {
      "text/plain": [
       "Male      207\n",
       "Female     96\n",
       "Name: sex, dtype: int64"
      ]
     },
     "execution_count": 44,
     "metadata": {},
     "output_type": "execute_result"
    }
   ],
   "source": [
    "data['sex'].value_counts()"
   ]
  },
  {
   "cell_type": "code",
   "execution_count": 45,
   "id": "d4c1ff53",
   "metadata": {},
   "outputs": [
    {
     "data": {
      "image/png": "[encoded data removed]",
      "text/plain": [
       "<Figure size 432x432 with 1 Axes>"
      ]
     },
     "metadata": {},
     "output_type": "display_data"
    }
   ],
   "source": [
    "## No. of surgeries\n",
    "plt.figure(figsize=(6,6))\n",
    "sns.countplot(x='no. of surgeries',data=data)\n",
    "plt.title('No. of surgeries')\n",
    "plt.show()"
   ]
  },
  {
   "cell_type": "code",
   "execution_count": 46,
   "id": "281f5356",
   "metadata": {},
   "outputs": [
    {
     "data": {
      "text/plain": [
       "0    143\n",
       "2     87\n",
       "1     50\n",
       "3     23\n",
       "Name: no. of surgeries, dtype: int64"
      ]
     },
     "execution_count": 46,
     "metadata": {},
     "output_type": "execute_result"
    }
   ],
   "source": [
    "data['no. of surgeries'].value_counts()"
   ]
  },
  {
   "cell_type": "code",
   "execution_count": 47,
   "id": "4954cdf3",
   "metadata": {},
   "outputs": [
    {
     "name": "stderr",
     "output_type": "stream",
     "text": [
      "C:\\Users\\admin\\anaconda3\\lib\\site-packages\\seaborn\\distributions.py:2619: FutureWarning: `distplot` is a deprecated function and will be removed in a future version. Please adapt your code to use either `displot` (a figure-level function with similar flexibility) or `histplot` (an axes-level function for histograms).\n",
      "  warnings.warn(msg, FutureWarning)\n"
     ]
    },
    {
     "data": {
      "image/png": "[encoded data removed]",
      "text/plain": [
       "<Figure size 432x432 with 1 Axes>"
      ]
     },
     "metadata": {},
     "output_type": "display_data"
    }
   ],
   "source": [
    "## Blood pressure\n",
    "sns.set()\n",
    "plt.figure(figsize=(6,6))\n",
    "sns.distplot(data['blood pressure'])\n",
    "plt.title('Blood Pressure')\n",
    "plt.show()"
   ]
  },
  {
   "cell_type": "code",
   "execution_count": 48,
   "id": "1ef7ea3a",
   "metadata": {},
   "outputs": [
    {
     "name": "stderr",
     "output_type": "stream",
     "text": [
      "C:\\Users\\admin\\anaconda3\\lib\\site-packages\\seaborn\\distributions.py:2619: FutureWarning: `distplot` is a deprecated function and will be removed in a future version. Please adapt your code to use either `displot` (a figure-level function with similar flexibility) or `histplot` (an axes-level function for histograms).\n",
      "  warnings.warn(msg, FutureWarning)\n"
     ]
    },
    {
     "data": {
      "image/png": "[encoded data removed]",
      "text/plain": [
       "<Figure size 432x432 with 1 Axes>"
      ]
     },
     "metadata": {},
     "output_type": "display_data"
    }
   ],
   "source": [
    "## cholestrol distribution\n",
    "sns.set()\n",
    "plt.figure(figsize=(6,6))\n",
    "sns.distplot(data['cholestrol'])\n",
    "plt.title('Cholestrol distribution')\n",
    "plt.show()"
   ]
  },
  {
   "cell_type": "code",
   "execution_count": 49,
   "id": "610ad6a1",
   "metadata": {},
   "outputs": [
    {
     "data": {
      "image/png": "[encoded data removed]",
      "text/plain": [
       "<Figure size 432x432 with 1 Axes>"
      ]
     },
     "metadata": {},
     "output_type": "display_data"
    }
   ],
   "source": [
    "## blood sugar column\n",
    "plt.figure(figsize=(6,6))\n",
    "sns.countplot(x='blood sugar',data=data)\n",
    "plt.title('Blood sugar distribution')\n",
    "plt.show()"
   ]
  },
  {
   "cell_type": "code",
   "execution_count": 50,
   "id": "8edd331b",
   "metadata": {},
   "outputs": [
    {
     "data": {
      "text/plain": [
       "False    258\n",
       "True      45\n",
       "Name: blood sugar, dtype: int64"
      ]
     },
     "execution_count": 50,
     "metadata": {},
     "output_type": "execute_result"
    }
   ],
   "source": [
    "data['blood sugar'].value_counts()"
   ]
  },
  {
   "cell_type": "code",
   "execution_count": 51,
   "id": "6d81e4a7",
   "metadata": {},
   "outputs": [
    {
     "data": {
      "image/png": "[encoded data removed]",
      "text/plain": [
       "<Figure size 432x432 with 1 Axes>"
      ]
     },
     "metadata": {},
     "output_type": "display_data"
    }
   ],
   "source": [
    "## ecg column\n",
    "plt.figure(figsize=(6,6))\n",
    "sns.countplot(x='ecg',data=data)\n",
    "plt.title('ECG distribution')\n",
    "plt.show()"
   ]
  },
  {
   "cell_type": "code",
   "execution_count": 52,
   "id": "8ddeb651",
   "metadata": {},
   "outputs": [
    {
     "data": {
      "text/plain": [
       "1    152\n",
       "0    147\n",
       "2      4\n",
       "Name: ecg, dtype: int64"
      ]
     },
     "execution_count": 52,
     "metadata": {},
     "output_type": "execute_result"
    }
   ],
   "source": [
    "data['ecg'].value_counts()"
   ]
  },
  {
   "cell_type": "code",
   "execution_count": 53,
   "id": "281cd519",
   "metadata": {},
   "outputs": [
    {
     "name": "stderr",
     "output_type": "stream",
     "text": [
      "C:\\Users\\admin\\anaconda3\\lib\\site-packages\\seaborn\\distributions.py:2619: FutureWarning: `distplot` is a deprecated function and will be removed in a future version. Please adapt your code to use either `displot` (a figure-level function with similar flexibility) or `histplot` (an axes-level function for histograms).\n",
      "  warnings.warn(msg, FutureWarning)\n"
     ]
    },
    {
     "data": {
      "image/png": "[encoded data removed]",
      "text/plain": [
       "<Figure size 432x432 with 1 Axes>"
      ]
     },
     "metadata": {},
     "output_type": "display_data"
    }
   ],
   "source": [
    "## max. heart rate column\n",
    "sns.set()\n",
    "plt.figure(figsize=(6,6))\n",
    "sns.distplot(data['max. heart rate'])\n",
    "plt.title('Max. heart rate distribution')\n",
    "plt.show()"
   ]
  },
  {
   "cell_type": "code",
   "execution_count": 54,
   "id": "c4274d3f",
   "metadata": {},
   "outputs": [
    {
     "data": {
      "image/png": "[encoded data removed]",
      "text/plain": [
       "<Figure size 432x432 with 1 Axes>"
      ]
     },
     "metadata": {},
     "output_type": "display_data"
    }
   ],
   "source": [
    "## Target column\n",
    "plt.figure(figsize=(6,6))\n",
    "sns.countplot(x='Target',data=data)\n",
    "plt.title('Target distribution')\n",
    "plt.show()"
   ]
  },
  {
   "cell_type": "code",
   "execution_count": 55,
   "id": "1405892f",
   "metadata": {},
   "outputs": [
    {
     "data": {
      "text/plain": [
       "1    165\n",
       "0    138\n",
       "Name: Target, dtype: int64"
      ]
     },
     "execution_count": 55,
     "metadata": {},
     "output_type": "execute_result"
    }
   ],
   "source": [
    "data['Target'].value_counts()"
   ]
  },
  {
   "cell_type": "code",
   "execution_count": 56,
   "id": "a050cbe4",
   "metadata": {},
   "outputs": [],
   "source": [
    "## Data preprocessing\n",
    "## Encoding the categorical features\n",
    "\n",
    "#encoding sex column\n",
    "data.replace({'sex':{'female':1,'male':0}},inplace=True)\n",
    "\n",
    "#encoding blood sugar column\n",
    "data.replace({'blood sugar':{'False':1,'True':0}},inplace=True)"
   ]
  },
  {
   "cell_type": "code",
   "execution_count": 57,
   "id": "8cf5e9d8",
   "metadata": {},
   "outputs": [],
   "source": [
    "## Splitting the features and target\n",
    "X = data.drop(columns='Target',axis=1)\n",
    "Y = data['Target']"
   ]
  },
  {
   "cell_type": "code",
   "execution_count": 58,
   "id": "486d4698",
   "metadata": {},
   "outputs": [
    {
     "name": "stdout",
     "output_type": "stream",
     "text": [
      "     age     sex  no. of surgeries  blood pressure  cholestrol  blood sugar  \\\n",
      "0     63    Male                 3             145         233         True   \n",
      "1     37    Male                 2             130         250        False   \n",
      "2     41  Female                 1             130         204        False   \n",
      "3     56    Male                 1             120         236        False   \n",
      "4     57  Female                 0             120         354        False   \n",
      "..   ...     ...               ...             ...         ...          ...   \n",
      "298   57  Female                 0             140         241        False   \n",
      "299   45    Male                 3             110         264        False   \n",
      "300   68    Male                 0             144         193         True   \n",
      "301   57    Male                 0             130         131        False   \n",
      "302   57  Female                 1             130         236        False   \n",
      "\n",
      "     ecg  max. heart rate bone fracture  \n",
      "0      0              150            No  \n",
      "1      1              187            No  \n",
      "2      0              172            No  \n",
      "3      1              178            No  \n",
      "4      1              163           Yes  \n",
      "..   ...              ...           ...  \n",
      "298    1              123           Yes  \n",
      "299    1              132            No  \n",
      "300    1              141            No  \n",
      "301    1              115           Yes  \n",
      "302    0              174            No  \n",
      "\n",
      "[303 rows x 9 columns]\n"
     ]
    }
   ],
   "source": [
    "print(X)"
   ]
  },
  {
   "cell_type": "code",
   "execution_count": 59,
   "id": "81152c2c",
   "metadata": {},
   "outputs": [
    {
     "name": "stdout",
     "output_type": "stream",
     "text": [
      "0      1\n",
      "1      1\n",
      "2      1\n",
      "3      1\n",
      "4      1\n",
      "      ..\n",
      "298    0\n",
      "299    0\n",
      "300    0\n",
      "301    0\n",
      "302    0\n",
      "Name: Target, Length: 303, dtype: int64\n"
     ]
    }
   ],
   "source": [
    "print(Y)"
   ]
  },
  {
   "cell_type": "code",
   "execution_count": 64,
   "id": "37ba1bf5",
   "metadata": {},
   "outputs": [],
   "source": [
    "## Splitting the data into training data and testing data\n",
    "X_train, X_test, Y_train, Y_test = train_test_split(X,Y,test_size=0.2, random_state=42)"
   ]
  },
  {
   "cell_type": "code",
   "execution_count": 65,
   "id": "b1a0c6da",
   "metadata": {},
   "outputs": [
    {
     "name": "stdout",
     "output_type": "stream",
     "text": [
      "(303, 9) (242, 9) (61, 9)\n"
     ]
    }
   ],
   "source": [
    "print(X.shape,X_train.shape,X_test.shape)"
   ]
  }
 ],
 "metadata": {
  "kernelspec": {
   "display_name": "Python 3 (ipykernel)",
   "language": "python",
   "name": "python3"
  },
  "language_info": {
   "codemirror_mode": {
    "name": "ipython",
    "version": 3
   },
   "file_extension": ".py",
   "mimetype": "text/x-python",
   "name": "python",
   "nbconvert_exporter": "python",
   "pygments_lexer": "ipython3",
   "version": "3.9.7"
  }
 },
 "nbformat": 4,
 "nbformat_minor": 5
}
